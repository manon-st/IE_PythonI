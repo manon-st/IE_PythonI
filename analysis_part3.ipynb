{
 "cells": [
  {
   "cell_type": "markdown",
   "metadata": {},
   "source": [
    "# Chapter II -  Insights"
   ]
  },
  {
   "cell_type": "markdown",
   "metadata": {},
   "source": [
    "### Insights\n",
    "**1.** The 3 variables that have the highest correlation with churn are payment_Electronic check, contract_Month-to-month and internet_Fiber optic. \n",
    "\n",
    "**2.** Customers without internet tend to churn less (only 7.0% churn rate vs. 26.54% company average) while customer having the fiber tend to churn much more (42.0% churn rate)\n",
    "\n",
    "**3.** Customers with internet service (78.0% of all customers) tend to churn more if they do not have the tech support (41.64% churn rate) and/or the online security (41.77% churn rate).\n",
    "\n",
    "**4.** Differences between churning and non-churning customers come from the time of contract customers have and the type of internet product they have. Demographics variables about the customer and type of phone product they have do not seem to play a role. \n",
    "\n",
    "**5.** A very small proportion of customers have a one year (21.0%) or two year contract (24.0%) while these feature seem to significantly bring down the churn rate while a high proportion of customers have a month to month contract (55.0%)."
   ]
  },
  {
   "cell_type": "markdown",
   "metadata": {},
   "source": [
    "### Data Cleaning\n",
    "- There are no NULL values for any column\n",
    "- There are no duplicate row\n",
    "- Drop CustomerID column\n",
    "- Customers with tenure = 0 have TotalCharges = '  ' --> Transform to 0."
   ]
  },
  {
   "cell_type": "code",
   "execution_count": 42,
   "metadata": {},
   "outputs": [
    {
     "data": {
      "text/html": [
       "<div>\n",
       "<style scoped>\n",
       "    .dataframe tbody tr th:only-of-type {\n",
       "        vertical-align: middle;\n",
       "    }\n",
       "\n",
       "    .dataframe tbody tr th {\n",
       "        vertical-align: top;\n",
       "    }\n",
       "\n",
       "    .dataframe thead th {\n",
       "        text-align: right;\n",
       "    }\n",
       "</style>\n",
       "<table border=\"1\" class=\"dataframe\">\n",
       "  <thead>\n",
       "    <tr style=\"text-align: right;\">\n",
       "      <th></th>\n",
       "      <th>customerID</th>\n",
       "      <th>gender</th>\n",
       "      <th>SeniorCitizen</th>\n",
       "      <th>Partner</th>\n",
       "      <th>Dependents</th>\n",
       "      <th>tenure</th>\n",
       "      <th>PhoneService</th>\n",
       "      <th>MultipleLines</th>\n",
       "      <th>InternetService</th>\n",
       "      <th>OnlineSecurity</th>\n",
       "      <th>...</th>\n",
       "      <th>DeviceProtection</th>\n",
       "      <th>TechSupport</th>\n",
       "      <th>StreamingTV</th>\n",
       "      <th>StreamingMovies</th>\n",
       "      <th>Contract</th>\n",
       "      <th>PaperlessBilling</th>\n",
       "      <th>PaymentMethod</th>\n",
       "      <th>MonthlyCharges</th>\n",
       "      <th>TotalCharges</th>\n",
       "      <th>Churn</th>\n",
       "    </tr>\n",
       "  </thead>\n",
       "  <tbody>\n",
       "  </tbody>\n",
       "</table>\n",
       "<p>0 rows × 21 columns</p>\n",
       "</div>"
      ],
      "text/plain": [
       "Empty DataFrame\n",
       "Columns: [customerID, gender, SeniorCitizen, Partner, Dependents, tenure, PhoneService, MultipleLines, InternetService, OnlineSecurity, OnlineBackup, DeviceProtection, TechSupport, StreamingTV, StreamingMovies, Contract, PaperlessBilling, PaymentMethod, MonthlyCharges, TotalCharges, Churn]\n",
       "Index: []\n",
       "\n",
       "[0 rows x 21 columns]"
      ]
     },
     "execution_count": 42,
     "metadata": {},
     "output_type": "execute_result"
    }
   ],
   "source": [
    "import pandas as pd\n",
    "\n",
    "df = pd.read_csv('churn.csv')\n",
    "\n",
    "df[df.duplicated()]\n"
   ]
  },
  {
   "cell_type": "code",
   "execution_count": 43,
   "metadata": {},
   "outputs": [],
   "source": [
    "# Drop CustomerID\n",
    "df = df.drop('customerID', axis=1)\n",
    "\n",
    "# TotalCharges fill empty string columns with 0 --> those with tenure = 0\n",
    "df['TotalCharges'] = df['TotalCharges'].apply(lambda x: float(x) if ' ' not in x else 0)"
   ]
  },
  {
   "cell_type": "markdown",
   "metadata": {},
   "source": [
    "### Data Transformation\n",
    "- All Yes/No columns are transformed to binary 1/0\n",
    "\n",
    "> DataFrame with all numerical variables --> dfNums\n",
    "- Gender column transformed to binary - Female/Male to 1/0\n",
    "- MultipleLines tranformed - Yes/No/No Phone Service to 1/0/0\n",
    "- Dummy variables (unfold) columns : InternetService, Contract, PaymentMethod\n",
    "\n",
    "> DataFrame with intial columns --> df"
   ]
  },
  {
   "cell_type": "code",
   "execution_count": 44,
   "metadata": {},
   "outputs": [],
   "source": [
    "# Transfrom Yes/No columns to 1/0\n",
    "binaryColumns = ['Partner','Dependents','PhoneService','OnlineSecurity','OnlineBackup','DeviceProtection','TechSupport','StreamingTV','StreamingMovies','PaperlessBilling','Churn']\n",
    "df[binaryColumns] = df[binaryColumns].applymap(lambda x: 1 if x == 'Yes' else 0)\n",
    "\n",
    "# DataFrame with flag variables\n",
    "dfNums = df.copy()\n",
    "\n",
    "# InternetService, Contract, PaymentMethod\n",
    "dfNums = pd.get_dummies(df, columns = ['InternetService','Contract','PaymentMethod'], prefix=['internet','contract','payment'])\n",
    "\n",
    "# Female/Male to 1/0\n",
    "dfNums['gender'] = dfNums['gender'].map({'Female':1, 'Male':0})\n",
    "\n",
    "# MultipleLines\n",
    "dfNums['MultipleLines'] = dfNums['MultipleLines'].apply(lambda x: 1 if x == 'Yes' else 0)"
   ]
  },
  {
   "cell_type": "code",
   "execution_count": 45,
   "metadata": {},
   "outputs": [
    {
     "name": "stdout",
     "output_type": "stream",
     "text": [
      "<class 'pandas.core.frame.DataFrame'>\n",
      "RangeIndex: 7043 entries, 0 to 7042\n",
      "Data columns (total 27 columns):\n",
      " #   Column                             Non-Null Count  Dtype  \n",
      "---  ------                             --------------  -----  \n",
      " 0   gender                             7043 non-null   int64  \n",
      " 1   SeniorCitizen                      7043 non-null   int64  \n",
      " 2   Partner                            7043 non-null   int64  \n",
      " 3   Dependents                         7043 non-null   int64  \n",
      " 4   tenure                             7043 non-null   int64  \n",
      " 5   PhoneService                       7043 non-null   int64  \n",
      " 6   MultipleLines                      7043 non-null   int64  \n",
      " 7   OnlineSecurity                     7043 non-null   int64  \n",
      " 8   OnlineBackup                       7043 non-null   int64  \n",
      " 9   DeviceProtection                   7043 non-null   int64  \n",
      " 10  TechSupport                        7043 non-null   int64  \n",
      " 11  StreamingTV                        7043 non-null   int64  \n",
      " 12  StreamingMovies                    7043 non-null   int64  \n",
      " 13  PaperlessBilling                   7043 non-null   int64  \n",
      " 14  MonthlyCharges                     7043 non-null   float64\n",
      " 15  TotalCharges                       7043 non-null   float64\n",
      " 16  Churn                              7043 non-null   int64  \n",
      " 17  internet_DSL                       7043 non-null   uint8  \n",
      " 18  internet_Fiber optic               7043 non-null   uint8  \n",
      " 19  internet_No                        7043 non-null   uint8  \n",
      " 20  contract_Month-to-month            7043 non-null   uint8  \n",
      " 21  contract_One year                  7043 non-null   uint8  \n",
      " 22  contract_Two year                  7043 non-null   uint8  \n",
      " 23  payment_Bank transfer (automatic)  7043 non-null   uint8  \n",
      " 24  payment_Credit card (automatic)    7043 non-null   uint8  \n",
      " 25  payment_Electronic check           7043 non-null   uint8  \n",
      " 26  payment_Mailed check               7043 non-null   uint8  \n",
      "dtypes: float64(2), int64(15), uint8(10)\n",
      "memory usage: 1004.3 KB\n"
     ]
    }
   ],
   "source": [
    "dfNums.info()"
   ]
  },
  {
   "cell_type": "markdown",
   "metadata": {},
   "source": [
    "### Data Exploration"
   ]
  },
  {
   "cell_type": "markdown",
   "metadata": {},
   "source": [
    "> **Insight 0** | Company wide churn"
   ]
  },
  {
   "cell_type": "code",
   "execution_count": 46,
   "metadata": {},
   "outputs": [
    {
     "name": "stdout",
     "output_type": "stream",
     "text": [
      "There is a 26.54% of churn company-wide.\n"
     ]
    }
   ],
   "source": [
    "percentchurn = dfNums[dfNums[\"Churn\"]==1][\"Churn\"].count()/dfNums[\"Churn\"].count()*100\n",
    "print(f\"There is a {str(round(percentchurn,2)) + '%'} of churn company-wide.\")"
   ]
  },
  {
   "cell_type": "markdown",
   "metadata": {},
   "source": [
    "> **Insight 1** | Correlation matrices with churn"
   ]
  },
  {
   "cell_type": "code",
   "execution_count": 47,
   "metadata": {},
   "outputs": [
    {
     "data": {
      "text/html": [
       "<div>\n",
       "<style scoped>\n",
       "    .dataframe tbody tr th:only-of-type {\n",
       "        vertical-align: middle;\n",
       "    }\n",
       "\n",
       "    .dataframe tbody tr th {\n",
       "        vertical-align: top;\n",
       "    }\n",
       "\n",
       "    .dataframe thead th {\n",
       "        text-align: right;\n",
       "    }\n",
       "</style>\n",
       "<table border=\"1\" class=\"dataframe\">\n",
       "  <thead>\n",
       "    <tr style=\"text-align: right;\">\n",
       "      <th></th>\n",
       "      <th>Churn</th>\n",
       "      <th>abs(churn)</th>\n",
       "      <th>Correlation sign</th>\n",
       "    </tr>\n",
       "  </thead>\n",
       "  <tbody>\n",
       "    <tr>\n",
       "      <th>tenure</th>\n",
       "      <td>-0.352229</td>\n",
       "      <td>0.352229</td>\n",
       "      <td>-</td>\n",
       "    </tr>\n",
       "    <tr>\n",
       "      <th>contract_Two year</th>\n",
       "      <td>-0.302253</td>\n",
       "      <td>0.302253</td>\n",
       "      <td>-</td>\n",
       "    </tr>\n",
       "    <tr>\n",
       "      <th>internet_No</th>\n",
       "      <td>-0.227890</td>\n",
       "      <td>0.227890</td>\n",
       "      <td>-</td>\n",
       "    </tr>\n",
       "    <tr>\n",
       "      <th>TotalCharges</th>\n",
       "      <td>-0.198324</td>\n",
       "      <td>0.198324</td>\n",
       "      <td>-</td>\n",
       "    </tr>\n",
       "    <tr>\n",
       "      <th>contract_One year</th>\n",
       "      <td>-0.177820</td>\n",
       "      <td>0.177820</td>\n",
       "      <td>-</td>\n",
       "    </tr>\n",
       "    <tr>\n",
       "      <th>OnlineSecurity</th>\n",
       "      <td>-0.171226</td>\n",
       "      <td>0.171226</td>\n",
       "      <td>-</td>\n",
       "    </tr>\n",
       "    <tr>\n",
       "      <th>TechSupport</th>\n",
       "      <td>-0.164674</td>\n",
       "      <td>0.164674</td>\n",
       "      <td>-</td>\n",
       "    </tr>\n",
       "    <tr>\n",
       "      <th>Dependents</th>\n",
       "      <td>-0.164221</td>\n",
       "      <td>0.164221</td>\n",
       "      <td>-</td>\n",
       "    </tr>\n",
       "    <tr>\n",
       "      <th>Partner</th>\n",
       "      <td>-0.150448</td>\n",
       "      <td>0.150448</td>\n",
       "      <td>-</td>\n",
       "    </tr>\n",
       "    <tr>\n",
       "      <th>payment_Credit card (automatic)</th>\n",
       "      <td>-0.134302</td>\n",
       "      <td>0.134302</td>\n",
       "      <td>-</td>\n",
       "    </tr>\n",
       "    <tr>\n",
       "      <th>internet_DSL</th>\n",
       "      <td>-0.124214</td>\n",
       "      <td>0.124214</td>\n",
       "      <td>-</td>\n",
       "    </tr>\n",
       "    <tr>\n",
       "      <th>payment_Bank transfer (automatic)</th>\n",
       "      <td>-0.117937</td>\n",
       "      <td>0.117937</td>\n",
       "      <td>-</td>\n",
       "    </tr>\n",
       "    <tr>\n",
       "      <th>payment_Mailed check</th>\n",
       "      <td>-0.091683</td>\n",
       "      <td>0.091683</td>\n",
       "      <td>-</td>\n",
       "    </tr>\n",
       "    <tr>\n",
       "      <th>OnlineBackup</th>\n",
       "      <td>-0.082255</td>\n",
       "      <td>0.082255</td>\n",
       "      <td>-</td>\n",
       "    </tr>\n",
       "    <tr>\n",
       "      <th>DeviceProtection</th>\n",
       "      <td>-0.066160</td>\n",
       "      <td>0.066160</td>\n",
       "      <td>-</td>\n",
       "    </tr>\n",
       "    <tr>\n",
       "      <th>Churn</th>\n",
       "      <td>1.000000</td>\n",
       "      <td>1.000000</td>\n",
       "      <td>+</td>\n",
       "    </tr>\n",
       "    <tr>\n",
       "      <th>contract_Month-to-month</th>\n",
       "      <td>0.405103</td>\n",
       "      <td>0.405103</td>\n",
       "      <td>+</td>\n",
       "    </tr>\n",
       "    <tr>\n",
       "      <th>internet_Fiber optic</th>\n",
       "      <td>0.308020</td>\n",
       "      <td>0.308020</td>\n",
       "      <td>+</td>\n",
       "    </tr>\n",
       "    <tr>\n",
       "      <th>payment_Electronic check</th>\n",
       "      <td>0.301919</td>\n",
       "      <td>0.301919</td>\n",
       "      <td>+</td>\n",
       "    </tr>\n",
       "    <tr>\n",
       "      <th>MonthlyCharges</th>\n",
       "      <td>0.193356</td>\n",
       "      <td>0.193356</td>\n",
       "      <td>+</td>\n",
       "    </tr>\n",
       "    <tr>\n",
       "      <th>PaperlessBilling</th>\n",
       "      <td>0.191825</td>\n",
       "      <td>0.191825</td>\n",
       "      <td>+</td>\n",
       "    </tr>\n",
       "    <tr>\n",
       "      <th>SeniorCitizen</th>\n",
       "      <td>0.150889</td>\n",
       "      <td>0.150889</td>\n",
       "      <td>+</td>\n",
       "    </tr>\n",
       "    <tr>\n",
       "      <th>StreamingTV</th>\n",
       "      <td>0.063228</td>\n",
       "      <td>0.063228</td>\n",
       "      <td>+</td>\n",
       "    </tr>\n",
       "    <tr>\n",
       "      <th>StreamingMovies</th>\n",
       "      <td>0.061382</td>\n",
       "      <td>0.061382</td>\n",
       "      <td>+</td>\n",
       "    </tr>\n",
       "    <tr>\n",
       "      <th>MultipleLines</th>\n",
       "      <td>0.040102</td>\n",
       "      <td>0.040102</td>\n",
       "      <td>+</td>\n",
       "    </tr>\n",
       "    <tr>\n",
       "      <th>PhoneService</th>\n",
       "      <td>0.011942</td>\n",
       "      <td>0.011942</td>\n",
       "      <td>+</td>\n",
       "    </tr>\n",
       "    <tr>\n",
       "      <th>gender</th>\n",
       "      <td>0.008612</td>\n",
       "      <td>0.008612</td>\n",
       "      <td>+</td>\n",
       "    </tr>\n",
       "  </tbody>\n",
       "</table>\n",
       "</div>"
      ],
      "text/plain": [
       "                                      Churn  abs(churn) Correlation sign\n",
       "tenure                            -0.352229    0.352229                -\n",
       "contract_Two year                 -0.302253    0.302253                -\n",
       "internet_No                       -0.227890    0.227890                -\n",
       "TotalCharges                      -0.198324    0.198324                -\n",
       "contract_One year                 -0.177820    0.177820                -\n",
       "OnlineSecurity                    -0.171226    0.171226                -\n",
       "TechSupport                       -0.164674    0.164674                -\n",
       "Dependents                        -0.164221    0.164221                -\n",
       "Partner                           -0.150448    0.150448                -\n",
       "payment_Credit card (automatic)   -0.134302    0.134302                -\n",
       "internet_DSL                      -0.124214    0.124214                -\n",
       "payment_Bank transfer (automatic) -0.117937    0.117937                -\n",
       "payment_Mailed check              -0.091683    0.091683                -\n",
       "OnlineBackup                      -0.082255    0.082255                -\n",
       "DeviceProtection                  -0.066160    0.066160                -\n",
       "Churn                              1.000000    1.000000                +\n",
       "contract_Month-to-month            0.405103    0.405103                +\n",
       "internet_Fiber optic               0.308020    0.308020                +\n",
       "payment_Electronic check           0.301919    0.301919                +\n",
       "MonthlyCharges                     0.193356    0.193356                +\n",
       "PaperlessBilling                   0.191825    0.191825                +\n",
       "SeniorCitizen                      0.150889    0.150889                +\n",
       "StreamingTV                        0.063228    0.063228                +\n",
       "StreamingMovies                    0.061382    0.061382                +\n",
       "MultipleLines                      0.040102    0.040102                +\n",
       "PhoneService                       0.011942    0.011942                +\n",
       "gender                             0.008612    0.008612                +"
      ]
     },
     "execution_count": 47,
     "metadata": {},
     "output_type": "execute_result"
    }
   ],
   "source": [
    "#Check which variables are the most correlated with churn\n",
    "corr = dfNums.corr()\n",
    "corr[\"abs(churn)\"] = abs(corr[\"Churn\"])\n",
    "\n",
    "def relationsign(row):\n",
    "    if row[\"Churn\"] > 0:\n",
    "        return \"+\"\n",
    "    return \"-\"\n",
    "\n",
    "corr['Correlation sign'] = corr.apply(lambda row: relationsign(row), axis=1)\n",
    "corr[[\"Churn\",\"abs(churn)\",\"Correlation sign\"]].sort_values(by=[\"Correlation sign\",\"abs(churn)\"], ascending=False)"
   ]
  },
  {
   "cell_type": "code",
   "execution_count": 48,
   "metadata": {},
   "outputs": [
    {
     "data": {
      "application/vnd.plotly.v1+json": {
       "config": {
        "plotlyServerURL": "https://plot.ly"
       },
       "data": [
        {
         "colorscale": [
          [
           0,
           "rgb(103,0,31)"
          ],
          [
           0.1,
           "rgb(178,24,43)"
          ],
          [
           0.2,
           "rgb(214,96,77)"
          ],
          [
           0.3,
           "rgb(244,165,130)"
          ],
          [
           0.4,
           "rgb(253,219,199)"
          ],
          [
           0.5,
           "rgb(247,247,247)"
          ],
          [
           0.6,
           "rgb(209,229,240)"
          ],
          [
           0.7,
           "rgb(146,197,222)"
          ],
          [
           0.8,
           "rgb(67,147,195)"
          ],
          [
           0.9,
           "rgb(33,102,172)"
          ],
          [
           1,
           "rgb(5,48,97)"
          ]
         ],
         "type": "heatmap",
         "x": [
          "gender",
          "SeniorCitizen",
          "Partner",
          "Dependents",
          "tenure",
          "PhoneService",
          "MultipleLines",
          "OnlineSecurity",
          "OnlineBackup",
          "DeviceProtection",
          "TechSupport",
          "StreamingTV",
          "StreamingMovies",
          "PaperlessBilling",
          "MonthlyCharges",
          "TotalCharges",
          "Churn",
          "internet_DSL",
          "internet_Fiber optic",
          "internet_No",
          "contract_Month-to-month",
          "contract_One year",
          "contract_Two year",
          "payment_Bank transfer (automatic)",
          "payment_Credit card (automatic)",
          "payment_Electronic check",
          "payment_Mailed check"
         ],
         "y": [
          "gender",
          "SeniorCitizen",
          "Partner",
          "Dependents",
          "tenure",
          "PhoneService",
          "MultipleLines",
          "OnlineSecurity",
          "OnlineBackup",
          "DeviceProtection",
          "TechSupport",
          "StreamingTV",
          "StreamingMovies",
          "PaperlessBilling",
          "MonthlyCharges",
          "TotalCharges",
          "Churn",
          "internet_DSL",
          "internet_Fiber optic",
          "internet_No",
          "contract_Month-to-month",
          "contract_One year",
          "contract_Two year",
          "payment_Bank transfer (automatic)",
          "payment_Credit card (automatic)",
          "payment_Electronic check",
          "payment_Mailed check"
         ],
         "z": [
          [
           1,
           0.0018737116382606784,
           0.0018080796617890086,
           -0.010516611922734096,
           -0.005106222619949842,
           0.006487672136208215,
           0.008413655871516412,
           0.017020796813959366,
           0.013773188729006028,
           0.0021045826513887075,
           0.009211760356587634,
           0.008392549998357625,
           0.010487356300500291,
           0.011753691221222193,
           0.014569323728667342,
           8.03034562787398e-05,
           0.008612095078997776,
           -0.006567778691102211,
           0.01128644272011662,
           -0.006025751154069731,
           0.0033859456136271435,
           -0.008025643075007369,
           0.00369505080347659,
           0.016023595160041808,
           -0.0012147794729687588,
           -0.0007521807011951186,
           -0.013744173305346302
          ],
          [
           0.0018737116382606784,
           1,
           0.01647865759741389,
           -0.2111850884939573,
           0.016566877681809315,
           0.008576401079279374,
           0.1429481747627617,
           -0.03865270449719514,
           0.06657213514513476,
           0.05942849428693287,
           -0.06062459069356334,
           0.10537766784282361,
           0.12017625118896443,
           0.15652955931117266,
           0.22017333857627205,
           0.1030061840795253,
           0.15088932817647233,
           -0.10832221369858291,
           0.2553377729551271,
           -0.18274172290672516,
           0.1383604644026422,
           -0.04626244292701931,
           -0.11700001812504587,
           -0.016158940862199628,
           -0.024135372360318857,
           0.17171777869093563,
           -0.15347749042895986
          ],
          [
           0.0018080796617890086,
           0.01647865759741389,
           1,
           0.4526762829294659,
           0.37969746116829306,
           0.017705663223971994,
           0.14205707936228557,
           0.14310622750264382,
           0.14149801947228102,
           0.15378643563077854,
           0.119998869764316,
           0.1246658005649171,
           0.11741185447194485,
           -0.014876622287891071,
           0.0968479362564748,
           0.3175040180528807,
           -0.15044754495917623,
           -0.0008509247739520988,
           0.00030366541646427686,
           0.0006151650863897274,
           -0.28086522610831505,
           0.08278330748148335,
           0.24809065453756396,
           0.11070636952477751,
           0.08202919645732591,
           -0.08385168936271037,
           -0.09512485882293231
          ],
          [
           -0.010516611922734096,
           -0.2111850884939573,
           0.4526762829294659,
           1,
           0.15971233121691789,
           -0.0017616785446837207,
           -0.024525804414100526,
           0.08097166023248387,
           0.02367101301051337,
           0.013962535653790248,
           0.06326814139965373,
           -0.016557742951037433,
           -0.03974096205892352,
           -0.11137722919364468,
           -0.11389023002193566,
           0.06207819481604347,
           -0.1642214015797254,
           0.052010348064673716,
           -0.16581835875542192,
           0.1398118853116784,
           -0.2317201661297165,
           0.06836848043822047,
           0.20461344694774095,
           0.05202098094740092,
           0.060267000176367644,
           -0.15064248847911277,
           0.059071012814667395
          ],
          [
           -0.005106222619949842,
           0.016566877681809315,
           0.37969746116829306,
           0.15971233121691789,
           1,
           0.008448206732743782,
           0.33194055560918756,
           0.32720277316824503,
           0.3602769889846738,
           0.36065286693247145,
           0.3242207719993657,
           0.27975608223591575,
           0.28611058777846027,
           0.0061524815982710816,
           0.24789985628615094,
           0.8261783979502434,
           -0.35222867011307885,
           0.013274087649273895,
           0.01972036768675567,
           -0.039061982110428314,
           -0.6455614232660726,
           0.2025704754494177,
           0.5585326708193884,
           0.24351044443849923,
           0.2330055250125013,
           -0.20836250343948978,
           -0.23385205012387278
          ],
          [
           0.006487672136208215,
           0.008576401079279374,
           0.017705663223971994,
           -0.0017616785446837207,
           0.008448206732743782,
           1,
           0.2796899947429132,
           -0.09289270011220854,
           -0.052312242947635416,
           -0.07122688671747505,
           -0.09633961826825957,
           -0.022573591794937113,
           -0.03295889236478095,
           0.016504805732569586,
           0.24739796321413557,
           0.11321354444457556,
           0.011941980029003084,
           -0.4524254899613079,
           0.2899989345730813,
           0.17220876982805308,
           -0.0007424302790416039,
           -0.0027906430986324718,
           0.0035189075685082,
           0.007556212925145823,
           -0.007721160009099356,
           0.003061829845430062,
           -0.003318789543607568
          ],
          [
           0.008413655871516412,
           0.1429481747627617,
           0.14205707936228557,
           -0.024525804414100526,
           0.33194055560918756,
           0.2796899947429132,
           1,
           0.098108139697264,
           0.2022370163204947,
           0.2011365325449602,
           0.1005713099857394,
           0.25715163510824723,
           0.25875149199377756,
           0.1635301742129278,
           0.49043396944002937,
           0.4685038161636605,
           0.040102127699826115,
           -0.19992020935336352,
           0.36608324961178895,
           -0.2105635237791302,
           -0.08820313233782175,
           -0.0037935880457818437,
           0.10625270251960478,
           0.07552652675123099,
           0.06004835777743554,
           0.08361817831666876,
           -0.22720630042805834
          ],
          [
           0.017020796813959366,
           -0.03865270449719514,
           0.14310622750264382,
           0.08097166023248387,
           0.32720277316824503,
           -0.09289270011220854,
           0.098108139697264,
           1,
           0.2838322335327234,
           0.27543797874378695,
           0.3549307078927643,
           0.17620730704239432,
           0.18739833092624927,
           -0.003635897148474223,
           0.2965941920005671,
           0.41165052665218405,
           -0.1712262919485523,
           0.32126890794490415,
           -0.03069571096235301,
           -0.3334027048964506,
           -0.24667886763136213,
           0.10016245689105185,
           0.1917733991520229,
           0.09515804273500739,
           0.1157206551755544,
           -0.11233777625407043,
           -0.0807980537772009
          ],
          [
           0.013773188729006028,
           0.06657213514513476,
           0.14149801947228102,
           0.02367101301051337,
           0.3602769889846738,
           -0.052312242947635416,
           0.2022370163204947,
           0.2838322335327234,
           1,
           0.3035462090113277,
           0.29423287840689494,
           0.28210642197177166,
           0.27450120196050104,
           0.12673537300697274,
           0.44178009435947463,
           0.5092260122231486,
           -0.08225486893814256,
           0.1578843939740524,
           0.1656508908339323,
           -0.38159329680772736,
           -0.164172333092541,
           0.08372237279771923,
           0.1113995950462178,
           0.08700369093869724,
           0.09078478545257015,
           -0.0004077158725883254,
           -0.17416391693980943
          ],
          [
           0.0021045826513887075,
           0.05942849428693287,
           0.15378643563077854,
           0.013962535653790248,
           0.36065286693247145,
           -0.07122688671747505,
           0.2011365325449602,
           0.27543797874378695,
           0.3035462090113277,
           1,
           0.33331256231543926,
           0.39087402691958434,
           0.4021105377661728,
           0.10379680498154165,
           0.48269204827329526,
           0.5219828797811954,
           -0.06615979128028963,
           0.14629064131472236,
           0.17604889095154458,
           -0.38075433795295827,
           -0.22566200253940216,
           0.10249519931671615,
           0.1650963913142373,
           0.08311454613206692,
           0.11155436356101238,
           -0.0033507734088713804,
           -0.1873734874635515
          ],
          [
           0.009211760356587634,
           -0.06062459069356334,
           0.119998869764316,
           0.06326814139965373,
           0.3242207719993657,
           -0.09633961826825957,
           0.1005713099857394,
           0.3549307078927643,
           0.29423287840689494,
           0.33331256231543926,
           1,
           0.2780702036372557,
           0.27935847892842425,
           0.037879900207281526,
           0.3383042642201547,
           0.43188277132750036,
           -0.16467355590159402,
           0.3131179268609477,
           -0.020492402500577486,
           -0.33629828469845985,
           -0.2852413102955641,
           0.09577473766009513,
           0.24082355652920476,
           0.10125246802180841,
           0.11727230654467367,
           -0.11483871499570028,
           -0.08550850677032883
          ],
          [
           0.008392549998357625,
           0.10537766784282361,
           0.1246658005649171,
           -0.016557742951037433,
           0.27975608223591575,
           -0.022573591794937113,
           0.25715163510824723,
           0.17620730704239432,
           0.28210642197177166,
           0.39087402691958434,
           0.2780702036372557,
           1,
           0.5330938326943199,
           0.22384098246010228,
           0.6296031609781678,
           0.5149734780630058,
           0.06322774611875735,
           0.016273726794572875,
           0.32934852591155733,
           -0.41555189388029695,
           -0.11228242714593198,
           0.06161243382926111,
           0.0720490410206099,
           0.04625225164274544,
           0.04043308035426147,
           0.14462638547453485,
           -0.24774242360741977
          ],
          [
           0.010487356300500291,
           0.12017625118896443,
           0.11741185447194485,
           -0.03974096205892352,
           0.28611058777846027,
           -0.03295889236478095,
           0.25875149199377756,
           0.18739833092624927,
           0.27450120196050104,
           0.4021105377661728,
           0.27935847892842425,
           0.5330938326943199,
           1,
           0.21171599176513145,
           0.6274288843898598,
           0.520121782100853,
           0.06138154801518694,
           0.025697831994172124,
           0.32292269808482754,
           -0.41867507897021555,
           -0.11663335681858021,
           0.06492603542901956,
           0.07395984413698505,
           0.04865217505038137,
           0.04857480053298374,
           0.13796637540690124,
           -0.2505954638083168
          ],
          [
           0.011753691221222193,
           0.15652955931117266,
           -0.014876622287891071,
           -0.11137722919364468,
           0.0061524815982710816,
           0.016504805732569586,
           0.1635301742129278,
           -0.003635897148474223,
           0.12673537300697274,
           0.10379680498154165,
           0.037879900207281526,
           0.22384098246010228,
           0.21171599176513145,
           1,
           0.35214996779598723,
           0.15857437033154356,
           0.19182533166646878,
           -0.06312108493004084,
           0.32685324851960407,
           -0.32101306523320894,
           0.1690964468722201,
           -0.051391159173446985,
           -0.14788875031016613,
           -0.01633220352789356,
           -0.013588829059284402,
           0.2088647554671869,
           -0.20539800518883697
          ],
          [
           0.014569323728667342,
           0.22017333857627205,
           0.0968479362564748,
           -0.11389023002193566,
           0.24789985628615094,
           0.24739796321413557,
           0.49043396944002937,
           0.2965941920005671,
           0.44178009435947463,
           0.48269204827329526,
           0.3383042642201547,
           0.6296031609781678,
           0.6274288843898598,
           0.35214996779598723,
           1,
           0.6511738315787816,
           0.19335642223784716,
           -0.16018932620444223,
           0.7870655284726781,
           -0.763556558286573,
           0.06016532712773747,
           0.004903839415022833,
           -0.07468085092684267,
           0.04281214055789999,
           0.030550358072309873,
           0.2716246710861262,
           -0.3774373156841072
          ],
          [
           8.03034562787398e-05,
           0.1030061840795253,
           0.3175040180528807,
           0.06207819481604347,
           0.8261783979502434,
           0.11321354444457556,
           0.4685038161636605,
           0.41165052665218405,
           0.5092260122231486,
           0.5219828797811954,
           0.43188277132750036,
           0.5149734780630058,
           0.520121782100853,
           0.15857437033154356,
           0.6511738315787816,
           1,
           -0.1983242626039948,
           -0.052468587998938665,
           0.3616554357800462,
           -0.3752228425945091,
           -0.4442549080768341,
           0.1708138856293546,
           0.3544807765108599,
           0.1859869321041114,
           0.18291458126297627,
           -0.05924588832828427,
           -0.29575842313548595
          ],
          [
           0.008612095078997776,
           0.15088932817647233,
           -0.15044754495917623,
           -0.1642214015797254,
           -0.35222867011307885,
           0.011941980029003084,
           0.040102127699826115,
           -0.1712262919485523,
           -0.08225486893814256,
           -0.06615979128028963,
           -0.16467355590159402,
           0.06322774611875735,
           0.06138154801518694,
           0.19182533166646878,
           0.19335642223784716,
           -0.1983242626039948,
           1,
           -0.12421382390260355,
           0.3080197449448227,
           -0.22789044975609363,
           0.40510291068799115,
           -0.1778200183499079,
           -0.30225346934965014,
           -0.11793667192853871,
           -0.1343017506626284,
           0.30191874901128496,
           -0.09168283858842928
          ],
          [
           -0.006567778691102211,
           -0.10832221369858291,
           -0.0008509247739520988,
           0.052010348064673716,
           0.013274087649273895,
           -0.4524254899613079,
           -0.19992020935336352,
           0.32126890794490415,
           0.1578843939740524,
           0.14629064131472236,
           0.3131179268609477,
           0.016273726794572875,
           0.025697831994172124,
           -0.06312108493004084,
           -0.16018932620444223,
           -0.052468587998938665,
           -0.12421382390260355,
           1,
           -0.6409871702805351,
           -0.3806345434753894,
           -0.06550876072359751,
           0.046795273572389086,
           0.031714234510353184,
           0.02547553614624615,
           0.05143757263283662,
           -0.10441759819553861,
           0.0418992819818248
          ],
          [
           0.01128644272011662,
           0.2553377729551271,
           0.00030366541646427686,
           -0.16581835875542192,
           0.01972036768675567,
           0.2899989345730813,
           0.36608324961178895,
           -0.03069571096235301,
           0.1656508908339323,
           0.17604889095154458,
           -0.020492402500577486,
           0.32934852591155733,
           0.32292269808482754,
           0.32685324851960407,
           0.7870655284726781,
           0.3616554357800462,
           0.3080197449448227,
           -0.6409871702805351,
           1,
           -0.46579271044600284,
           0.24416415597398572,
           -0.07632409089469194,
           -0.21152603536967934,
           -0.02262401224386686,
           -0.050076655450446934,
           0.3364097780255869,
           -0.30683412957624884
          ],
          [
           -0.006025751154069731,
           -0.18274172290672516,
           0.0006151650863897274,
           0.1398118853116784,
           -0.039061982110428314,
           0.17220876982805308,
           -0.2105635237791302,
           -0.3334027048964506,
           -0.38159329680772736,
           -0.38075433795295827,
           -0.33629828469845985,
           -0.41555189388029695,
           -0.41867507897021555,
           -0.32101306523320894,
           -0.763556558286573,
           -0.3752228425945091,
           -0.22789044975609363,
           -0.3806345434753894,
           -0.46579271044600284,
           1,
           -0.2186387661615461,
           0.03800394241916658,
           0.2182782234096049,
           -0.0021133998738821764,
           0.0010297293228974764,
           -0.2849166458500224,
           0.3213607323178355
          ],
          [
           0.0033859456136271435,
           0.1383604644026422,
           -0.28086522610831505,
           -0.2317201661297165,
           -0.6455614232660726,
           -0.0007424302790416039,
           -0.08820313233782175,
           -0.24667886763136213,
           -0.164172333092541,
           -0.22566200253940216,
           -0.2852413102955641,
           -0.11228242714593198,
           -0.11663335681858021,
           0.1690964468722201,
           0.06016532712773747,
           -0.4442549080768341,
           0.40510291068799115,
           -0.06550876072359751,
           0.24416415597398572,
           -0.2186387661615461,
           1,
           -0.5687442811986994,
           -0.6226334072448431,
           -0.17970688735759932,
           -0.20414496075693406,
           0.33166148481728003,
           0.004138055475923944
          ],
          [
           -0.008025643075007369,
           -0.04626244292701931,
           0.08278330748148335,
           0.06836848043822047,
           0.2025704754494177,
           -0.0027906430986324718,
           -0.0037935880457818437,
           0.10016245689105185,
           0.08372237279771923,
           0.10249519931671615,
           0.09577473766009513,
           0.06161243382926111,
           0.06492603542901956,
           -0.051391159173446985,
           0.004903839415022833,
           0.1708138856293546,
           -0.1778200183499079,
           0.046795273572389086,
           -0.07632409089469194,
           0.03800394241916658,
           -0.5687442811986994,
           1,
           -0.28950957234145225,
           0.057450662129906,
           0.06758941420686175,
           -0.10912981441493752,
           -0.0001162210619356373
          ],
          [
           0.00369505080347659,
           -0.11700001812504587,
           0.24809065453756396,
           0.20461344694774095,
           0.5585326708193884,
           0.0035189075685082,
           0.10625270251960478,
           0.1917733991520229,
           0.1113995950462178,
           0.1650963913142373,
           0.24082355652920476,
           0.0720490410206099,
           0.07395984413698505,
           -0.14788875031016613,
           -0.07468085092684267,
           0.3544807765108599,
           -0.30225346934965014,
           0.031714234510353184,
           -0.21152603536967934,
           0.2182782234096049,
           -0.6226334072448431,
           -0.28950957234145225,
           1,
           0.1544714991696689,
           0.17326485242690484,
           -0.2821379770975387,
           -0.004704962197150832
          ],
          [
           0.016023595160041808,
           -0.016158940862199628,
           0.11070636952477751,
           0.05202098094740092,
           0.24351044443849923,
           0.007556212925145823,
           0.07552652675123099,
           0.09515804273500739,
           0.08700369093869724,
           0.08311454613206692,
           0.10125246802180841,
           0.04625225164274544,
           0.04865217505038137,
           -0.01633220352789356,
           0.04281214055789999,
           0.1859869321041114,
           -0.11793667192853871,
           0.02547553614624615,
           -0.02262401224386686,
           -0.0021133998738821764,
           -0.17970688735759932,
           0.057450662129906,
           0.1544714991696689,
           1,
           -0.2782148074777901,
           -0.3767621373493138,
           -0.2886851242114306
          ],
          [
           -0.0012147794729687588,
           -0.024135372360318857,
           0.08202919645732591,
           0.060267000176367644,
           0.2330055250125013,
           -0.007721160009099356,
           0.06004835777743554,
           0.1157206551755544,
           0.09078478545257015,
           0.11155436356101238,
           0.11727230654467367,
           0.04043308035426147,
           0.04857480053298374,
           -0.013588829059284402,
           0.030550358072309873,
           0.18291458126297627,
           -0.1343017506626284,
           0.05143757263283662,
           -0.050076655450446934,
           0.0010297293228974764,
           -0.20414496075693406,
           0.06758941420686175,
           0.17326485242690484,
           -0.2782148074777901,
           1,
           -0.3733222859365754,
           -0.28604941899078024
          ],
          [
           -0.0007521807011951186,
           0.17171777869093563,
           -0.08385168936271037,
           -0.15064248847911277,
           -0.20836250343948978,
           0.003061829845430062,
           0.08361817831666876,
           -0.11233777625407043,
           -0.0004077158725883254,
           -0.0033507734088713804,
           -0.11483871499570028,
           0.14462638547453485,
           0.13796637540690124,
           0.2088647554671869,
           0.2716246710861262,
           -0.05924588832828427,
           0.30191874901128496,
           -0.10441759819553861,
           0.3364097780255869,
           -0.2849166458500224,
           0.33166148481728003,
           -0.10912981441493752,
           -0.2821379770975387,
           -0.3767621373493138,
           -0.3733222859365754,
           1,
           -0.3873718709062569
          ],
          [
           -0.013744173305346302,
           -0.15347749042895986,
           -0.09512485882293231,
           0.059071012814667395,
           -0.23385205012387278,
           -0.003318789543607568,
           -0.22720630042805834,
           -0.0807980537772009,
           -0.17416391693980943,
           -0.1873734874635515,
           -0.08550850677032883,
           -0.24774242360741977,
           -0.2505954638083168,
           -0.20539800518883697,
           -0.3774373156841072,
           -0.29575842313548595,
           -0.09168283858842928,
           0.0418992819818248,
           -0.30683412957624884,
           0.3213607323178355,
           0.004138055475923944,
           -0.0001162210619356373,
           -0.004704962197150832,
           -0.2886851242114306,
           -0.28604941899078024,
           -0.3873718709062569,
           1
          ]
         ],
         "zmax": 1,
         "zmin": -1
        }
       ],
       "layout": {
        "autosize": true,
        "template": {
         "data": {
          "bar": [
           {
            "error_x": {
             "color": "#2a3f5f"
            },
            "error_y": {
             "color": "#2a3f5f"
            },
            "marker": {
             "line": {
              "color": "#E5ECF6",
              "width": 0.5
             },
             "pattern": {
              "fillmode": "overlay",
              "size": 10,
              "solidity": 0.2
             }
            },
            "type": "bar"
           }
          ],
          "barpolar": [
           {
            "marker": {
             "line": {
              "color": "#E5ECF6",
              "width": 0.5
             },
             "pattern": {
              "fillmode": "overlay",
              "size": 10,
              "solidity": 0.2
             }
            },
            "type": "barpolar"
           }
          ],
          "carpet": [
           {
            "aaxis": {
             "endlinecolor": "#2a3f5f",
             "gridcolor": "white",
             "linecolor": "white",
             "minorgridcolor": "white",
             "startlinecolor": "#2a3f5f"
            },
            "baxis": {
             "endlinecolor": "#2a3f5f",
             "gridcolor": "white",
             "linecolor": "white",
             "minorgridcolor": "white",
             "startlinecolor": "#2a3f5f"
            },
            "type": "carpet"
           }
          ],
          "choropleth": [
           {
            "colorbar": {
             "outlinewidth": 0,
             "ticks": ""
            },
            "type": "choropleth"
           }
          ],
          "contour": [
           {
            "colorbar": {
             "outlinewidth": 0,
             "ticks": ""
            },
            "colorscale": [
             [
              0,
              "#0d0887"
             ],
             [
              0.1111111111111111,
              "#46039f"
             ],
             [
              0.2222222222222222,
              "#7201a8"
             ],
             [
              0.3333333333333333,
              "#9c179e"
             ],
             [
              0.4444444444444444,
              "#bd3786"
             ],
             [
              0.5555555555555556,
              "#d8576b"
             ],
             [
              0.6666666666666666,
              "#ed7953"
             ],
             [
              0.7777777777777778,
              "#fb9f3a"
             ],
             [
              0.8888888888888888,
              "#fdca26"
             ],
             [
              1,
              "#f0f921"
             ]
            ],
            "type": "contour"
           }
          ],
          "contourcarpet": [
           {
            "colorbar": {
             "outlinewidth": 0,
             "ticks": ""
            },
            "type": "contourcarpet"
           }
          ],
          "heatmap": [
           {
            "colorbar": {
             "outlinewidth": 0,
             "ticks": ""
            },
            "colorscale": [
             [
              0,
              "#0d0887"
             ],
             [
              0.1111111111111111,
              "#46039f"
             ],
             [
              0.2222222222222222,
              "#7201a8"
             ],
             [
              0.3333333333333333,
              "#9c179e"
             ],
             [
              0.4444444444444444,
              "#bd3786"
             ],
             [
              0.5555555555555556,
              "#d8576b"
             ],
             [
              0.6666666666666666,
              "#ed7953"
             ],
             [
              0.7777777777777778,
              "#fb9f3a"
             ],
             [
              0.8888888888888888,
              "#fdca26"
             ],
             [
              1,
              "#f0f921"
             ]
            ],
            "type": "heatmap"
           }
          ],
          "heatmapgl": [
           {
            "colorbar": {
             "outlinewidth": 0,
             "ticks": ""
            },
            "colorscale": [
             [
              0,
              "#0d0887"
             ],
             [
              0.1111111111111111,
              "#46039f"
             ],
             [
              0.2222222222222222,
              "#7201a8"
             ],
             [
              0.3333333333333333,
              "#9c179e"
             ],
             [
              0.4444444444444444,
              "#bd3786"
             ],
             [
              0.5555555555555556,
              "#d8576b"
             ],
             [
              0.6666666666666666,
              "#ed7953"
             ],
             [
              0.7777777777777778,
              "#fb9f3a"
             ],
             [
              0.8888888888888888,
              "#fdca26"
             ],
             [
              1,
              "#f0f921"
             ]
            ],
            "type": "heatmapgl"
           }
          ],
          "histogram": [
           {
            "marker": {
             "pattern": {
              "fillmode": "overlay",
              "size": 10,
              "solidity": 0.2
             }
            },
            "type": "histogram"
           }
          ],
          "histogram2d": [
           {
            "colorbar": {
             "outlinewidth": 0,
             "ticks": ""
            },
            "colorscale": [
             [
              0,
              "#0d0887"
             ],
             [
              0.1111111111111111,
              "#46039f"
             ],
             [
              0.2222222222222222,
              "#7201a8"
             ],
             [
              0.3333333333333333,
              "#9c179e"
             ],
             [
              0.4444444444444444,
              "#bd3786"
             ],
             [
              0.5555555555555556,
              "#d8576b"
             ],
             [
              0.6666666666666666,
              "#ed7953"
             ],
             [
              0.7777777777777778,
              "#fb9f3a"
             ],
             [
              0.8888888888888888,
              "#fdca26"
             ],
             [
              1,
              "#f0f921"
             ]
            ],
            "type": "histogram2d"
           }
          ],
          "histogram2dcontour": [
           {
            "colorbar": {
             "outlinewidth": 0,
             "ticks": ""
            },
            "colorscale": [
             [
              0,
              "#0d0887"
             ],
             [
              0.1111111111111111,
              "#46039f"
             ],
             [
              0.2222222222222222,
              "#7201a8"
             ],
             [
              0.3333333333333333,
              "#9c179e"
             ],
             [
              0.4444444444444444,
              "#bd3786"
             ],
             [
              0.5555555555555556,
              "#d8576b"
             ],
             [
              0.6666666666666666,
              "#ed7953"
             ],
             [
              0.7777777777777778,
              "#fb9f3a"
             ],
             [
              0.8888888888888888,
              "#fdca26"
             ],
             [
              1,
              "#f0f921"
             ]
            ],
            "type": "histogram2dcontour"
           }
          ],
          "mesh3d": [
           {
            "colorbar": {
             "outlinewidth": 0,
             "ticks": ""
            },
            "type": "mesh3d"
           }
          ],
          "parcoords": [
           {
            "line": {
             "colorbar": {
              "outlinewidth": 0,
              "ticks": ""
             }
            },
            "type": "parcoords"
           }
          ],
          "pie": [
           {
            "automargin": true,
            "type": "pie"
           }
          ],
          "scatter": [
           {
            "fillpattern": {
             "fillmode": "overlay",
             "size": 10,
             "solidity": 0.2
            },
            "type": "scatter"
           }
          ],
          "scatter3d": [
           {
            "line": {
             "colorbar": {
              "outlinewidth": 0,
              "ticks": ""
             }
            },
            "marker": {
             "colorbar": {
              "outlinewidth": 0,
              "ticks": ""
             }
            },
            "type": "scatter3d"
           }
          ],
          "scattercarpet": [
           {
            "marker": {
             "colorbar": {
              "outlinewidth": 0,
              "ticks": ""
             }
            },
            "type": "scattercarpet"
           }
          ],
          "scattergeo": [
           {
            "marker": {
             "colorbar": {
              "outlinewidth": 0,
              "ticks": ""
             }
            },
            "type": "scattergeo"
           }
          ],
          "scattergl": [
           {
            "marker": {
             "colorbar": {
              "outlinewidth": 0,
              "ticks": ""
             }
            },
            "type": "scattergl"
           }
          ],
          "scattermapbox": [
           {
            "marker": {
             "colorbar": {
              "outlinewidth": 0,
              "ticks": ""
             }
            },
            "type": "scattermapbox"
           }
          ],
          "scatterpolar": [
           {
            "marker": {
             "colorbar": {
              "outlinewidth": 0,
              "ticks": ""
             }
            },
            "type": "scatterpolar"
           }
          ],
          "scatterpolargl": [
           {
            "marker": {
             "colorbar": {
              "outlinewidth": 0,
              "ticks": ""
             }
            },
            "type": "scatterpolargl"
           }
          ],
          "scatterternary": [
           {
            "marker": {
             "colorbar": {
              "outlinewidth": 0,
              "ticks": ""
             }
            },
            "type": "scatterternary"
           }
          ],
          "surface": [
           {
            "colorbar": {
             "outlinewidth": 0,
             "ticks": ""
            },
            "colorscale": [
             [
              0,
              "#0d0887"
             ],
             [
              0.1111111111111111,
              "#46039f"
             ],
             [
              0.2222222222222222,
              "#7201a8"
             ],
             [
              0.3333333333333333,
              "#9c179e"
             ],
             [
              0.4444444444444444,
              "#bd3786"
             ],
             [
              0.5555555555555556,
              "#d8576b"
             ],
             [
              0.6666666666666666,
              "#ed7953"
             ],
             [
              0.7777777777777778,
              "#fb9f3a"
             ],
             [
              0.8888888888888888,
              "#fdca26"
             ],
             [
              1,
              "#f0f921"
             ]
            ],
            "type": "surface"
           }
          ],
          "table": [
           {
            "cells": {
             "fill": {
              "color": "#EBF0F8"
             },
             "line": {
              "color": "white"
             }
            },
            "header": {
             "fill": {
              "color": "#C8D4E3"
             },
             "line": {
              "color": "white"
             }
            },
            "type": "table"
           }
          ]
         },
         "layout": {
          "annotationdefaults": {
           "arrowcolor": "#2a3f5f",
           "arrowhead": 0,
           "arrowwidth": 1
          },
          "autotypenumbers": "strict",
          "coloraxis": {
           "colorbar": {
            "outlinewidth": 0,
            "ticks": ""
           }
          },
          "colorscale": {
           "diverging": [
            [
             0,
             "#8e0152"
            ],
            [
             0.1,
             "#c51b7d"
            ],
            [
             0.2,
             "#de77ae"
            ],
            [
             0.3,
             "#f1b6da"
            ],
            [
             0.4,
             "#fde0ef"
            ],
            [
             0.5,
             "#f7f7f7"
            ],
            [
             0.6,
             "#e6f5d0"
            ],
            [
             0.7,
             "#b8e186"
            ],
            [
             0.8,
             "#7fbc41"
            ],
            [
             0.9,
             "#4d9221"
            ],
            [
             1,
             "#276419"
            ]
           ],
           "sequential": [
            [
             0,
             "#0d0887"
            ],
            [
             0.1111111111111111,
             "#46039f"
            ],
            [
             0.2222222222222222,
             "#7201a8"
            ],
            [
             0.3333333333333333,
             "#9c179e"
            ],
            [
             0.4444444444444444,
             "#bd3786"
            ],
            [
             0.5555555555555556,
             "#d8576b"
            ],
            [
             0.6666666666666666,
             "#ed7953"
            ],
            [
             0.7777777777777778,
             "#fb9f3a"
            ],
            [
             0.8888888888888888,
             "#fdca26"
            ],
            [
             1,
             "#f0f921"
            ]
           ],
           "sequentialminus": [
            [
             0,
             "#0d0887"
            ],
            [
             0.1111111111111111,
             "#46039f"
            ],
            [
             0.2222222222222222,
             "#7201a8"
            ],
            [
             0.3333333333333333,
             "#9c179e"
            ],
            [
             0.4444444444444444,
             "#bd3786"
            ],
            [
             0.5555555555555556,
             "#d8576b"
            ],
            [
             0.6666666666666666,
             "#ed7953"
            ],
            [
             0.7777777777777778,
             "#fb9f3a"
            ],
            [
             0.8888888888888888,
             "#fdca26"
            ],
            [
             1,
             "#f0f921"
            ]
           ]
          },
          "colorway": [
           "#636efa",
           "#EF553B",
           "#00cc96",
           "#ab63fa",
           "#FFA15A",
           "#19d3f3",
           "#FF6692",
           "#B6E880",
           "#FF97FF",
           "#FECB52"
          ],
          "font": {
           "color": "#2a3f5f"
          },
          "geo": {
           "bgcolor": "white",
           "lakecolor": "white",
           "landcolor": "#E5ECF6",
           "showlakes": true,
           "showland": true,
           "subunitcolor": "white"
          },
          "hoverlabel": {
           "align": "left"
          },
          "hovermode": "closest",
          "mapbox": {
           "style": "light"
          },
          "paper_bgcolor": "white",
          "plot_bgcolor": "#E5ECF6",
          "polar": {
           "angularaxis": {
            "gridcolor": "white",
            "linecolor": "white",
            "ticks": ""
           },
           "bgcolor": "#E5ECF6",
           "radialaxis": {
            "gridcolor": "white",
            "linecolor": "white",
            "ticks": ""
           }
          },
          "scene": {
           "xaxis": {
            "backgroundcolor": "#E5ECF6",
            "gridcolor": "white",
            "gridwidth": 2,
            "linecolor": "white",
            "showbackground": true,
            "ticks": "",
            "zerolinecolor": "white"
           },
           "yaxis": {
            "backgroundcolor": "#E5ECF6",
            "gridcolor": "white",
            "gridwidth": 2,
            "linecolor": "white",
            "showbackground": true,
            "ticks": "",
            "zerolinecolor": "white"
           },
           "zaxis": {
            "backgroundcolor": "#E5ECF6",
            "gridcolor": "white",
            "gridwidth": 2,
            "linecolor": "white",
            "showbackground": true,
            "ticks": "",
            "zerolinecolor": "white"
           }
          },
          "shapedefaults": {
           "line": {
            "color": "#2a3f5f"
           }
          },
          "ternary": {
           "aaxis": {
            "gridcolor": "white",
            "linecolor": "white",
            "ticks": ""
           },
           "baxis": {
            "gridcolor": "white",
            "linecolor": "white",
            "ticks": ""
           },
           "bgcolor": "#E5ECF6",
           "caxis": {
            "gridcolor": "white",
            "linecolor": "white",
            "ticks": ""
           }
          },
          "title": {
           "x": 0.05
          },
          "xaxis": {
           "automargin": true,
           "gridcolor": "white",
           "linecolor": "white",
           "ticks": "",
           "title": {
            "standoff": 15
           },
           "zerolinecolor": "white",
           "zerolinewidth": 2
          },
          "yaxis": {
           "automargin": true,
           "gridcolor": "white",
           "linecolor": "white",
           "ticks": "",
           "title": {
            "standoff": 15
           },
           "zerolinecolor": "white",
           "zerolinewidth": 2
          }
         }
        },
        "xaxis": {
         "autorange": true,
         "range": [
          -0.5,
          26.5
         ],
         "type": "category"
        },
        "yaxis": {
         "autorange": true,
         "range": [
          -0.5,
          26.5
         ],
         "type": "category"
        }
       }
      },
      "image/png": "[encoded data removed]",
      "text/html": [
       "<div>                            <div id=\"5e2ae676-435f-4f4b-8371-c85f2f9436c9\" class=\"plotly-graph-div\" style=\"height:1000px; width:100%;\"></div>            <script type=\"text/javascript\">                require([\"plotly\"], function(Plotly) {                    window.PLOTLYENV=window.PLOTLYENV || {};                                    if (document.getElementById(\"5e2ae676-435f-4f4b-8371-c85f2f9436c9\")) {                    Plotly.newPlot(                        \"5e2ae676-435f-4f4b-8371-c85f2f9436c9\",                        [{\"colorscale\":[[0.0,\"rgb(103,0,31)\"],[0.1,\"rgb(178,24,43)\"],[0.2,\"rgb(214,96,77)\"],[0.3,\"rgb(244,165,130)\"],[0.4,\"rgb(253,219,199)\"],[0.5,\"rgb(247,247,247)\"],[0.6,\"rgb(209,229,240)\"],[0.7,\"rgb(146,197,222)\"],[0.8,\"rgb(67,147,195)\"],[0.9,\"rgb(33,102,172)\"],[1.0,\"rgb(5,48,97)\"]],\"x\":[\"gender\",\"SeniorCitizen\",\"Partner\",\"Dependents\",\"tenure\",\"PhoneService\",\"MultipleLines\",\"OnlineSecurity\",\"OnlineBackup\",\"DeviceProtection\",\"TechSupport\",\"StreamingTV\",\"StreamingMovies\",\"PaperlessBilling\",\"MonthlyCharges\",\"TotalCharges\",\"Churn\",\"internet_DSL\",\"internet_Fiber optic\",\"internet_No\",\"contract_Month-to-month\",\"contract_One year\",\"contract_Two year\",\"payment_Bank transfer (automatic)\",\"payment_Credit card (automatic)\",\"payment_Electronic check\",\"payment_Mailed check\"],\"y\":[\"gender\",\"SeniorCitizen\",\"Partner\",\"Dependents\",\"tenure\",\"PhoneService\",\"MultipleLines\",\"OnlineSecurity\",\"OnlineBackup\",\"DeviceProtection\",\"TechSupport\",\"StreamingTV\",\"StreamingMovies\",\"PaperlessBilling\",\"MonthlyCharges\",\"TotalCharges\",\"Churn\",\"internet_DSL\",\"internet_Fiber optic\",\"internet_No\",\"contract_Month-to-month\",\"contract_One year\",\"contract_Two year\",\"payment_Bank transfer (automatic)\",\"payment_Credit card (automatic)\",\"payment_Electronic check\",\"payment_Mailed check\"],\"z\":[[1.0,0.0018737116382606784,0.0018080796617890086,-0.010516611922734096,-0.005106222619949842,0.006487672136208215,0.008413655871516412,0.017020796813959366,0.013773188729006028,0.0021045826513887075,0.009211760356587634,0.008392549998357625,0.010487356300500291,0.011753691221222193,0.014569323728667342,8.03034562787398e-05,0.008612095078997776,-0.006567778691102211,0.01128644272011662,-0.006025751154069731,0.0033859456136271435,-0.008025643075007369,0.00369505080347659,0.016023595160041808,-0.0012147794729687588,-0.0007521807011951186,-0.013744173305346302],[0.0018737116382606784,1.0,0.01647865759741389,-0.2111850884939573,0.016566877681809315,0.008576401079279374,0.1429481747627617,-0.03865270449719514,0.06657213514513476,0.05942849428693287,-0.06062459069356334,0.10537766784282361,0.12017625118896443,0.15652955931117266,0.22017333857627205,0.1030061840795253,0.15088932817647233,-0.10832221369858291,0.2553377729551271,-0.18274172290672516,0.1383604644026422,-0.04626244292701931,-0.11700001812504587,-0.016158940862199628,-0.024135372360318857,0.17171777869093563,-0.15347749042895986],[0.0018080796617890086,0.01647865759741389,1.0,0.4526762829294659,0.37969746116829306,0.017705663223971994,0.14205707936228557,0.14310622750264382,0.14149801947228102,0.15378643563077854,0.119998869764316,0.1246658005649171,0.11741185447194485,-0.014876622287891071,0.0968479362564748,0.3175040180528807,-0.15044754495917623,-0.0008509247739520988,0.00030366541646427686,0.0006151650863897274,-0.28086522610831505,0.08278330748148335,0.24809065453756396,0.11070636952477751,0.08202919645732591,-0.08385168936271037,-0.09512485882293231],[-0.010516611922734096,-0.2111850884939573,0.4526762829294659,1.0,0.15971233121691789,-0.0017616785446837207,-0.024525804414100526,0.08097166023248387,0.02367101301051337,0.013962535653790248,0.06326814139965373,-0.016557742951037433,-0.03974096205892352,-0.11137722919364468,-0.11389023002193566,0.06207819481604347,-0.1642214015797254,0.052010348064673716,-0.16581835875542192,0.1398118853116784,-0.2317201661297165,0.06836848043822047,0.20461344694774095,0.05202098094740092,0.060267000176367644,-0.15064248847911277,0.059071012814667395],[-0.005106222619949842,0.016566877681809315,0.37969746116829306,0.15971233121691789,1.0,0.008448206732743782,0.33194055560918756,0.32720277316824503,0.3602769889846738,0.36065286693247145,0.3242207719993657,0.27975608223591575,0.28611058777846027,0.0061524815982710816,0.24789985628615094,0.8261783979502434,-0.35222867011307885,0.013274087649273895,0.01972036768675567,-0.039061982110428314,-0.6455614232660726,0.2025704754494177,0.5585326708193884,0.24351044443849923,0.2330055250125013,-0.20836250343948978,-0.23385205012387278],[0.006487672136208215,0.008576401079279374,0.017705663223971994,-0.0017616785446837207,0.008448206732743782,1.0,0.2796899947429132,-0.09289270011220854,-0.052312242947635416,-0.07122688671747505,-0.09633961826825957,-0.022573591794937113,-0.03295889236478095,0.016504805732569586,0.24739796321413557,0.11321354444457556,0.011941980029003084,-0.4524254899613079,0.2899989345730813,0.17220876982805308,-0.0007424302790416039,-0.0027906430986324718,0.0035189075685082,0.007556212925145823,-0.007721160009099356,0.003061829845430062,-0.003318789543607568],[0.008413655871516412,0.1429481747627617,0.14205707936228557,-0.024525804414100526,0.33194055560918756,0.2796899947429132,1.0,0.098108139697264,0.2022370163204947,0.2011365325449602,0.1005713099857394,0.25715163510824723,0.25875149199377756,0.1635301742129278,0.49043396944002937,0.4685038161636605,0.040102127699826115,-0.19992020935336352,0.36608324961178895,-0.2105635237791302,-0.08820313233782175,-0.0037935880457818437,0.10625270251960478,0.07552652675123099,0.06004835777743554,0.08361817831666876,-0.22720630042805834],[0.017020796813959366,-0.03865270449719514,0.14310622750264382,0.08097166023248387,0.32720277316824503,-0.09289270011220854,0.098108139697264,1.0,0.2838322335327234,0.27543797874378695,0.3549307078927643,0.17620730704239432,0.18739833092624927,-0.003635897148474223,0.2965941920005671,0.41165052665218405,-0.1712262919485523,0.32126890794490415,-0.03069571096235301,-0.3334027048964506,-0.24667886763136213,0.10016245689105185,0.1917733991520229,0.09515804273500739,0.1157206551755544,-0.11233777625407043,-0.0807980537772009],[0.013773188729006028,0.06657213514513476,0.14149801947228102,0.02367101301051337,0.3602769889846738,-0.052312242947635416,0.2022370163204947,0.2838322335327234,1.0,0.3035462090113277,0.29423287840689494,0.28210642197177166,0.27450120196050104,0.12673537300697274,0.44178009435947463,0.5092260122231486,-0.08225486893814256,0.1578843939740524,0.1656508908339323,-0.38159329680772736,-0.164172333092541,0.08372237279771923,0.1113995950462178,0.08700369093869724,0.09078478545257015,-0.0004077158725883254,-0.17416391693980943],[0.0021045826513887075,0.05942849428693287,0.15378643563077854,0.013962535653790248,0.36065286693247145,-0.07122688671747505,0.2011365325449602,0.27543797874378695,0.3035462090113277,1.0,0.33331256231543926,0.39087402691958434,0.4021105377661728,0.10379680498154165,0.48269204827329526,0.5219828797811954,-0.06615979128028963,0.14629064131472236,0.17604889095154458,-0.38075433795295827,-0.22566200253940216,0.10249519931671615,0.1650963913142373,0.08311454613206692,0.11155436356101238,-0.0033507734088713804,-0.1873734874635515],[0.009211760356587634,-0.06062459069356334,0.119998869764316,0.06326814139965373,0.3242207719993657,-0.09633961826825957,0.1005713099857394,0.3549307078927643,0.29423287840689494,0.33331256231543926,1.0,0.2780702036372557,0.27935847892842425,0.037879900207281526,0.3383042642201547,0.43188277132750036,-0.16467355590159402,0.3131179268609477,-0.020492402500577486,-0.33629828469845985,-0.2852413102955641,0.09577473766009513,0.24082355652920476,0.10125246802180841,0.11727230654467367,-0.11483871499570028,-0.08550850677032883],[0.008392549998357625,0.10537766784282361,0.1246658005649171,-0.016557742951037433,0.27975608223591575,-0.022573591794937113,0.25715163510824723,0.17620730704239432,0.28210642197177166,0.39087402691958434,0.2780702036372557,1.0,0.5330938326943199,0.22384098246010228,0.6296031609781678,0.5149734780630058,0.06322774611875735,0.016273726794572875,0.32934852591155733,-0.41555189388029695,-0.11228242714593198,0.06161243382926111,0.0720490410206099,0.04625225164274544,0.04043308035426147,0.14462638547453485,-0.24774242360741977],[0.010487356300500291,0.12017625118896443,0.11741185447194485,-0.03974096205892352,0.28611058777846027,-0.03295889236478095,0.25875149199377756,0.18739833092624927,0.27450120196050104,0.4021105377661728,0.27935847892842425,0.5330938326943199,1.0,0.21171599176513145,0.6274288843898598,0.520121782100853,0.06138154801518694,0.025697831994172124,0.32292269808482754,-0.41867507897021555,-0.11663335681858021,0.06492603542901956,0.07395984413698505,0.04865217505038137,0.04857480053298374,0.13796637540690124,-0.2505954638083168],[0.011753691221222193,0.15652955931117266,-0.014876622287891071,-0.11137722919364468,0.0061524815982710816,0.016504805732569586,0.1635301742129278,-0.003635897148474223,0.12673537300697274,0.10379680498154165,0.037879900207281526,0.22384098246010228,0.21171599176513145,1.0,0.35214996779598723,0.15857437033154356,0.19182533166646878,-0.06312108493004084,0.32685324851960407,-0.32101306523320894,0.1690964468722201,-0.051391159173446985,-0.14788875031016613,-0.01633220352789356,-0.013588829059284402,0.2088647554671869,-0.20539800518883697],[0.014569323728667342,0.22017333857627205,0.0968479362564748,-0.11389023002193566,0.24789985628615094,0.24739796321413557,0.49043396944002937,0.2965941920005671,0.44178009435947463,0.48269204827329526,0.3383042642201547,0.6296031609781678,0.6274288843898598,0.35214996779598723,1.0,0.6511738315787816,0.19335642223784716,-0.16018932620444223,0.7870655284726781,-0.763556558286573,0.06016532712773747,0.004903839415022833,-0.07468085092684267,0.04281214055789999,0.030550358072309873,0.2716246710861262,-0.3774373156841072],[8.03034562787398e-05,0.1030061840795253,0.3175040180528807,0.06207819481604347,0.8261783979502434,0.11321354444457556,0.4685038161636605,0.41165052665218405,0.5092260122231486,0.5219828797811954,0.43188277132750036,0.5149734780630058,0.520121782100853,0.15857437033154356,0.6511738315787816,1.0,-0.1983242626039948,-0.052468587998938665,0.3616554357800462,-0.3752228425945091,-0.4442549080768341,0.1708138856293546,0.3544807765108599,0.1859869321041114,0.18291458126297627,-0.05924588832828427,-0.29575842313548595],[0.008612095078997776,0.15088932817647233,-0.15044754495917623,-0.1642214015797254,-0.35222867011307885,0.011941980029003084,0.040102127699826115,-0.1712262919485523,-0.08225486893814256,-0.06615979128028963,-0.16467355590159402,0.06322774611875735,0.06138154801518694,0.19182533166646878,0.19335642223784716,-0.1983242626039948,1.0,-0.12421382390260355,0.3080197449448227,-0.22789044975609363,0.40510291068799115,-0.1778200183499079,-0.30225346934965014,-0.11793667192853871,-0.1343017506626284,0.30191874901128496,-0.09168283858842928],[-0.006567778691102211,-0.10832221369858291,-0.0008509247739520988,0.052010348064673716,0.013274087649273895,-0.4524254899613079,-0.19992020935336352,0.32126890794490415,0.1578843939740524,0.14629064131472236,0.3131179268609477,0.016273726794572875,0.025697831994172124,-0.06312108493004084,-0.16018932620444223,-0.052468587998938665,-0.12421382390260355,1.0,-0.6409871702805351,-0.3806345434753894,-0.06550876072359751,0.046795273572389086,0.031714234510353184,0.02547553614624615,0.05143757263283662,-0.10441759819553861,0.0418992819818248],[0.01128644272011662,0.2553377729551271,0.00030366541646427686,-0.16581835875542192,0.01972036768675567,0.2899989345730813,0.36608324961178895,-0.03069571096235301,0.1656508908339323,0.17604889095154458,-0.020492402500577486,0.32934852591155733,0.32292269808482754,0.32685324851960407,0.7870655284726781,0.3616554357800462,0.3080197449448227,-0.6409871702805351,1.0,-0.46579271044600284,0.24416415597398572,-0.07632409089469194,-0.21152603536967934,-0.02262401224386686,-0.050076655450446934,0.3364097780255869,-0.30683412957624884],[-0.006025751154069731,-0.18274172290672516,0.0006151650863897274,0.1398118853116784,-0.039061982110428314,0.17220876982805308,-0.2105635237791302,-0.3334027048964506,-0.38159329680772736,-0.38075433795295827,-0.33629828469845985,-0.41555189388029695,-0.41867507897021555,-0.32101306523320894,-0.763556558286573,-0.3752228425945091,-0.22789044975609363,-0.3806345434753894,-0.46579271044600284,1.0,-0.2186387661615461,0.03800394241916658,0.2182782234096049,-0.0021133998738821764,0.0010297293228974764,-0.2849166458500224,0.3213607323178355],[0.0033859456136271435,0.1383604644026422,-0.28086522610831505,-0.2317201661297165,-0.6455614232660726,-0.0007424302790416039,-0.08820313233782175,-0.24667886763136213,-0.164172333092541,-0.22566200253940216,-0.2852413102955641,-0.11228242714593198,-0.11663335681858021,0.1690964468722201,0.06016532712773747,-0.4442549080768341,0.40510291068799115,-0.06550876072359751,0.24416415597398572,-0.2186387661615461,1.0,-0.5687442811986994,-0.6226334072448431,-0.17970688735759932,-0.20414496075693406,0.33166148481728003,0.004138055475923944],[-0.008025643075007369,-0.04626244292701931,0.08278330748148335,0.06836848043822047,0.2025704754494177,-0.0027906430986324718,-0.0037935880457818437,0.10016245689105185,0.08372237279771923,0.10249519931671615,0.09577473766009513,0.06161243382926111,0.06492603542901956,-0.051391159173446985,0.004903839415022833,0.1708138856293546,-0.1778200183499079,0.046795273572389086,-0.07632409089469194,0.03800394241916658,-0.5687442811986994,1.0,-0.28950957234145225,0.057450662129906,0.06758941420686175,-0.10912981441493752,-0.0001162210619356373],[0.00369505080347659,-0.11700001812504587,0.24809065453756396,0.20461344694774095,0.5585326708193884,0.0035189075685082,0.10625270251960478,0.1917733991520229,0.1113995950462178,0.1650963913142373,0.24082355652920476,0.0720490410206099,0.07395984413698505,-0.14788875031016613,-0.07468085092684267,0.3544807765108599,-0.30225346934965014,0.031714234510353184,-0.21152603536967934,0.2182782234096049,-0.6226334072448431,-0.28950957234145225,1.0,0.1544714991696689,0.17326485242690484,-0.2821379770975387,-0.004704962197150832],[0.016023595160041808,-0.016158940862199628,0.11070636952477751,0.05202098094740092,0.24351044443849923,0.007556212925145823,0.07552652675123099,0.09515804273500739,0.08700369093869724,0.08311454613206692,0.10125246802180841,0.04625225164274544,0.04865217505038137,-0.01633220352789356,0.04281214055789999,0.1859869321041114,-0.11793667192853871,0.02547553614624615,-0.02262401224386686,-0.0021133998738821764,-0.17970688735759932,0.057450662129906,0.1544714991696689,1.0,-0.2782148074777901,-0.3767621373493138,-0.2886851242114306],[-0.0012147794729687588,-0.024135372360318857,0.08202919645732591,0.060267000176367644,0.2330055250125013,-0.007721160009099356,0.06004835777743554,0.1157206551755544,0.09078478545257015,0.11155436356101238,0.11727230654467367,0.04043308035426147,0.04857480053298374,-0.013588829059284402,0.030550358072309873,0.18291458126297627,-0.1343017506626284,0.05143757263283662,-0.050076655450446934,0.0010297293228974764,-0.20414496075693406,0.06758941420686175,0.17326485242690484,-0.2782148074777901,1.0,-0.3733222859365754,-0.28604941899078024],[-0.0007521807011951186,0.17171777869093563,-0.08385168936271037,-0.15064248847911277,-0.20836250343948978,0.003061829845430062,0.08361817831666876,-0.11233777625407043,-0.0004077158725883254,-0.0033507734088713804,-0.11483871499570028,0.14462638547453485,0.13796637540690124,0.2088647554671869,0.2716246710861262,-0.05924588832828427,0.30191874901128496,-0.10441759819553861,0.3364097780255869,-0.2849166458500224,0.33166148481728003,-0.10912981441493752,-0.2821379770975387,-0.3767621373493138,-0.3733222859365754,1.0,-0.3873718709062569],[-0.013744173305346302,-0.15347749042895986,-0.09512485882293231,0.059071012814667395,-0.23385205012387278,-0.003318789543607568,-0.22720630042805834,-0.0807980537772009,-0.17416391693980943,-0.1873734874635515,-0.08550850677032883,-0.24774242360741977,-0.2505954638083168,-0.20539800518883697,-0.3774373156841072,-0.29575842313548595,-0.09168283858842928,0.0418992819818248,-0.30683412957624884,0.3213607323178355,0.004138055475923944,-0.0001162210619356373,-0.004704962197150832,-0.2886851242114306,-0.28604941899078024,-0.3873718709062569,1.0]],\"zmax\":1,\"zmin\":-1,\"type\":\"heatmap\"}],                        {\"template\":{\"data\":{\"histogram2dcontour\":[{\"type\":\"histogram2dcontour\",\"colorbar\":{\"outlinewidth\":0,\"ticks\":\"\"},\"colorscale\":[[0.0,\"#0d0887\"],[0.1111111111111111,\"#46039f\"],[0.2222222222222222,\"#7201a8\"],[0.3333333333333333,\"#9c179e\"],[0.4444444444444444,\"#bd3786\"],[0.5555555555555556,\"#d8576b\"],[0.6666666666666666,\"#ed7953\"],[0.7777777777777778,\"#fb9f3a\"],[0.8888888888888888,\"#fdca26\"],[1.0,\"#f0f921\"]]}],\"choropleth\":[{\"type\":\"choropleth\",\"colorbar\":{\"outlinewidth\":0,\"ticks\":\"\"}}],\"histogram2d\":[{\"type\":\"histogram2d\",\"colorbar\":{\"outlinewidth\":0,\"ticks\":\"\"},\"colorscale\":[[0.0,\"#0d0887\"],[0.1111111111111111,\"#46039f\"],[0.2222222222222222,\"#7201a8\"],[0.3333333333333333,\"#9c179e\"],[0.4444444444444444,\"#bd3786\"],[0.5555555555555556,\"#d8576b\"],[0.6666666666666666,\"#ed7953\"],[0.7777777777777778,\"#fb9f3a\"],[0.8888888888888888,\"#fdca26\"],[1.0,\"#f0f921\"]]}],\"heatmap\":[{\"type\":\"heatmap\",\"colorbar\":{\"outlinewidth\":0,\"ticks\":\"\"},\"colorscale\":[[0.0,\"#0d0887\"],[0.1111111111111111,\"#46039f\"],[0.2222222222222222,\"#7201a8\"],[0.3333333333333333,\"#9c179e\"],[0.4444444444444444,\"#bd3786\"],[0.5555555555555556,\"#d8576b\"],[0.6666666666666666,\"#ed7953\"],[0.7777777777777778,\"#fb9f3a\"],[0.8888888888888888,\"#fdca26\"],[1.0,\"#f0f921\"]]}],\"heatmapgl\":[{\"type\":\"heatmapgl\",\"colorbar\":{\"outlinewidth\":0,\"ticks\":\"\"},\"colorscale\":[[0.0,\"#0d0887\"],[0.1111111111111111,\"#46039f\"],[0.2222222222222222,\"#7201a8\"],[0.3333333333333333,\"#9c179e\"],[0.4444444444444444,\"#bd3786\"],[0.5555555555555556,\"#d8576b\"],[0.6666666666666666,\"#ed7953\"],[0.7777777777777778,\"#fb9f3a\"],[0.8888888888888888,\"#fdca26\"],[1.0,\"#f0f921\"]]}],\"contourcarpet\":[{\"type\":\"contourcarpet\",\"colorbar\":{\"outlinewidth\":0,\"ticks\":\"\"}}],\"contour\":[{\"type\":\"contour\",\"colorbar\":{\"outlinewidth\":0,\"ticks\":\"\"},\"colorscale\":[[0.0,\"#0d0887\"],[0.1111111111111111,\"#46039f\"],[0.2222222222222222,\"#7201a8\"],[0.3333333333333333,\"#9c179e\"],[0.4444444444444444,\"#bd3786\"],[0.5555555555555556,\"#d8576b\"],[0.6666666666666666,\"#ed7953\"],[0.7777777777777778,\"#fb9f3a\"],[0.8888888888888888,\"#fdca26\"],[1.0,\"#f0f921\"]]}],\"surface\":[{\"type\":\"surface\",\"colorbar\":{\"outlinewidth\":0,\"ticks\":\"\"},\"colorscale\":[[0.0,\"#0d0887\"],[0.1111111111111111,\"#46039f\"],[0.2222222222222222,\"#7201a8\"],[0.3333333333333333,\"#9c179e\"],[0.4444444444444444,\"#bd3786\"],[0.5555555555555556,\"#d8576b\"],[0.6666666666666666,\"#ed7953\"],[0.7777777777777778,\"#fb9f3a\"],[0.8888888888888888,\"#fdca26\"],[1.0,\"#f0f921\"]]}],\"mesh3d\":[{\"type\":\"mesh3d\",\"colorbar\":{\"outlinewidth\":0,\"ticks\":\"\"}}],\"scatter\":[{\"fillpattern\":{\"fillmode\":\"overlay\",\"size\":10,\"solidity\":0.2},\"type\":\"scatter\"}],\"parcoords\":[{\"type\":\"parcoords\",\"line\":{\"colorbar\":{\"outlinewidth\":0,\"ticks\":\"\"}}}],\"scatterpolargl\":[{\"type\":\"scatterpolargl\",\"marker\":{\"colorbar\":{\"outlinewidth\":0,\"ticks\":\"\"}}}],\"bar\":[{\"error_x\":{\"color\":\"#2a3f5f\"},\"error_y\":{\"color\":\"#2a3f5f\"},\"marker\":{\"line\":{\"color\":\"#E5ECF6\",\"width\":0.5},\"pattern\":{\"fillmode\":\"overlay\",\"size\":10,\"solidity\":0.2}},\"type\":\"bar\"}],\"scattergeo\":[{\"type\":\"scattergeo\",\"marker\":{\"colorbar\":{\"outlinewidth\":0,\"ticks\":\"\"}}}],\"scatterpolar\":[{\"type\":\"scatterpolar\",\"marker\":{\"colorbar\":{\"outlinewidth\":0,\"ticks\":\"\"}}}],\"histogram\":[{\"marker\":{\"pattern\":{\"fillmode\":\"overlay\",\"size\":10,\"solidity\":0.2}},\"type\":\"histogram\"}],\"scattergl\":[{\"type\":\"scattergl\",\"marker\":{\"colorbar\":{\"outlinewidth\":0,\"ticks\":\"\"}}}],\"scatter3d\":[{\"type\":\"scatter3d\",\"line\":{\"colorbar\":{\"outlinewidth\":0,\"ticks\":\"\"}},\"marker\":{\"colorbar\":{\"outlinewidth\":0,\"ticks\":\"\"}}}],\"scattermapbox\":[{\"type\":\"scattermapbox\",\"marker\":{\"colorbar\":{\"outlinewidth\":0,\"ticks\":\"\"}}}],\"scatterternary\":[{\"type\":\"scatterternary\",\"marker\":{\"colorbar\":{\"outlinewidth\":0,\"ticks\":\"\"}}}],\"scattercarpet\":[{\"type\":\"scattercarpet\",\"marker\":{\"colorbar\":{\"outlinewidth\":0,\"ticks\":\"\"}}}],\"carpet\":[{\"aaxis\":{\"endlinecolor\":\"#2a3f5f\",\"gridcolor\":\"white\",\"linecolor\":\"white\",\"minorgridcolor\":\"white\",\"startlinecolor\":\"#2a3f5f\"},\"baxis\":{\"endlinecolor\":\"#2a3f5f\",\"gridcolor\":\"white\",\"linecolor\":\"white\",\"minorgridcolor\":\"white\",\"startlinecolor\":\"#2a3f5f\"},\"type\":\"carpet\"}],\"table\":[{\"cells\":{\"fill\":{\"color\":\"#EBF0F8\"},\"line\":{\"color\":\"white\"}},\"header\":{\"fill\":{\"color\":\"#C8D4E3\"},\"line\":{\"color\":\"white\"}},\"type\":\"table\"}],\"barpolar\":[{\"marker\":{\"line\":{\"color\":\"#E5ECF6\",\"width\":0.5},\"pattern\":{\"fillmode\":\"overlay\",\"size\":10,\"solidity\":0.2}},\"type\":\"barpolar\"}],\"pie\":[{\"automargin\":true,\"type\":\"pie\"}]},\"layout\":{\"autotypenumbers\":\"strict\",\"colorway\":[\"#636efa\",\"#EF553B\",\"#00cc96\",\"#ab63fa\",\"#FFA15A\",\"#19d3f3\",\"#FF6692\",\"#B6E880\",\"#FF97FF\",\"#FECB52\"],\"font\":{\"color\":\"#2a3f5f\"},\"hovermode\":\"closest\",\"hoverlabel\":{\"align\":\"left\"},\"paper_bgcolor\":\"white\",\"plot_bgcolor\":\"#E5ECF6\",\"polar\":{\"bgcolor\":\"#E5ECF6\",\"angularaxis\":{\"gridcolor\":\"white\",\"linecolor\":\"white\",\"ticks\":\"\"},\"radialaxis\":{\"gridcolor\":\"white\",\"linecolor\":\"white\",\"ticks\":\"\"}},\"ternary\":{\"bgcolor\":\"#E5ECF6\",\"aaxis\":{\"gridcolor\":\"white\",\"linecolor\":\"white\",\"ticks\":\"\"},\"baxis\":{\"gridcolor\":\"white\",\"linecolor\":\"white\",\"ticks\":\"\"},\"caxis\":{\"gridcolor\":\"white\",\"linecolor\":\"white\",\"ticks\":\"\"}},\"coloraxis\":{\"colorbar\":{\"outlinewidth\":0,\"ticks\":\"\"}},\"colorscale\":{\"sequential\":[[0.0,\"#0d0887\"],[0.1111111111111111,\"#46039f\"],[0.2222222222222222,\"#7201a8\"],[0.3333333333333333,\"#9c179e\"],[0.4444444444444444,\"#bd3786\"],[0.5555555555555556,\"#d8576b\"],[0.6666666666666666,\"#ed7953\"],[0.7777777777777778,\"#fb9f3a\"],[0.8888888888888888,\"#fdca26\"],[1.0,\"#f0f921\"]],\"sequentialminus\":[[0.0,\"#0d0887\"],[0.1111111111111111,\"#46039f\"],[0.2222222222222222,\"#7201a8\"],[0.3333333333333333,\"#9c179e\"],[0.4444444444444444,\"#bd3786\"],[0.5555555555555556,\"#d8576b\"],[0.6666666666666666,\"#ed7953\"],[0.7777777777777778,\"#fb9f3a\"],[0.8888888888888888,\"#fdca26\"],[1.0,\"#f0f921\"]],\"diverging\":[[0,\"#8e0152\"],[0.1,\"#c51b7d\"],[0.2,\"#de77ae\"],[0.3,\"#f1b6da\"],[0.4,\"#fde0ef\"],[0.5,\"#f7f7f7\"],[0.6,\"#e6f5d0\"],[0.7,\"#b8e186\"],[0.8,\"#7fbc41\"],[0.9,\"#4d9221\"],[1,\"#276419\"]]},\"xaxis\":{\"gridcolor\":\"white\",\"linecolor\":\"white\",\"ticks\":\"\",\"title\":{\"standoff\":15},\"zerolinecolor\":\"white\",\"automargin\":true,\"zerolinewidth\":2},\"yaxis\":{\"gridcolor\":\"white\",\"linecolor\":\"white\",\"ticks\":\"\",\"title\":{\"standoff\":15},\"zerolinecolor\":\"white\",\"automargin\":true,\"zerolinewidth\":2},\"scene\":{\"xaxis\":{\"backgroundcolor\":\"#E5ECF6\",\"gridcolor\":\"white\",\"linecolor\":\"white\",\"showbackground\":true,\"ticks\":\"\",\"zerolinecolor\":\"white\",\"gridwidth\":2},\"yaxis\":{\"backgroundcolor\":\"#E5ECF6\",\"gridcolor\":\"white\",\"linecolor\":\"white\",\"showbackground\":true,\"ticks\":\"\",\"zerolinecolor\":\"white\",\"gridwidth\":2},\"zaxis\":{\"backgroundcolor\":\"#E5ECF6\",\"gridcolor\":\"white\",\"linecolor\":\"white\",\"showbackground\":true,\"ticks\":\"\",\"zerolinecolor\":\"white\",\"gridwidth\":2}},\"shapedefaults\":{\"line\":{\"color\":\"#2a3f5f\"}},\"annotationdefaults\":{\"arrowcolor\":\"#2a3f5f\",\"arrowhead\":0,\"arrowwidth\":1},\"geo\":{\"bgcolor\":\"white\",\"landcolor\":\"#E5ECF6\",\"subunitcolor\":\"white\",\"showland\":true,\"showlakes\":true,\"lakecolor\":\"white\"},\"title\":{\"x\":0.05},\"mapbox\":{\"style\":\"light\"}}},\"height\":1000},                        {\"responsive\": true}                    ).then(function(){\n",
       "                            \n",
       "var gd = document.getElementById('5e2ae676-435f-4f4b-8371-c85f2f9436c9');\n",
       "var x = new MutationObserver(function (mutations, observer) {{\n",
       "        var display = window.getComputedStyle(gd).display;\n",
       "        if (!display || display === 'none') {{\n",
       "            console.log([gd, 'removed!']);\n",
       "            Plotly.purge(gd);\n",
       "            observer.disconnect();\n",
       "        }}\n",
       "}});\n",
       "\n",
       "// Listen for the removal of the full notebook cells\n",
       "var notebookContainer = gd.closest('#notebook-container');\n",
       "if (notebookContainer) {{\n",
       "    x.observe(notebookContainer, {childList: true});\n",
       "}}\n",
       "\n",
       "// Listen for the clearing of the current output cell\n",
       "var outputEl = gd.closest('.output');\n",
       "if (outputEl) {{\n",
       "    x.observe(outputEl, {childList: true});\n",
       "}}\n",
       "\n",
       "                        })                };                });            </script>        </div>"
      ]
     },
     "metadata": {},
     "output_type": "display_data"
    }
   ],
   "source": [
    "#Create correlation matrix\n",
    "import plotly.io as pio\n",
    "import plotly.express as px\n",
    "import plotly.graph_objects as go\n",
    "\n",
    "corrMatrix = dfNums.corr()\n",
    "\n",
    "traceCorr = go.Heatmap(\n",
    "    z=corrMatrix.values,\n",
    "    x=corrMatrix.index.values,\n",
    "    y=corrMatrix.columns.values,\n",
    "    colorscale='RdBu',\n",
    "    zmax=1,\n",
    "    zmin=-1\n",
    ")\n",
    "figCorr = go.Figure()\n",
    "figCorr.add_trace(traceCorr)\n",
    "figCorr.layout.height = 1000\n",
    "figCorr.show()"
   ]
  },
  {
   "cell_type": "code",
   "execution_count": 49,
   "metadata": {},
   "outputs": [
    {
     "name": "stdout",
     "output_type": "stream",
     "text": [
      "Insight 1: The 3 variables that have the highest correlation with churn are payment_Electronic check, contract_Month-to-month and internet_Fiber optic.\n"
     ]
    }
   ],
   "source": [
    "print(f\"Insight 1: The 3 variables that have the highest correlation with churn are payment_Electronic check, contract_Month-to-month and internet_Fiber optic.\")"
   ]
  },
  {
   "cell_type": "markdown",
   "metadata": {
    "tags": []
   },
   "source": [
    "> **Insight 2** | Create new dataframe dfGraph and checking churn by internet service option. Columns of DfGraph:\n",
    " \n",
    "     -> categories of variables - \"category\"\n",
    "     -> variables - \"variables\"\n",
    "     -> customers churning and scoring 1 on each variable - \"churnUsers\"\n",
    "     -> customers scoring 1 on each variable - \"totalUsers\"\n",
    "     -> churn % per customer group scoring 1 on each variable - \"%_Churn\"\n",
    "     -> % of customers scoring 1 on that variable - \"%_Users\"\n",
    "     -> Average monthly charges of customers scoring 1 on each variable - \"MonthlyCharges\""
   ]
  },
  {
   "cell_type": "code",
   "execution_count": 50,
   "metadata": {},
   "outputs": [],
   "source": [
    "#Defining categories of variables\n",
    "setup = [\"PaperlessBilling\",\"payment_Electronic check\", \"payment_Mailed check\", \"payment_Credit card (automatic)\", \"contract_Month-to-month\", \"contract_One year\", \"contract_Two year\"]\n",
    "product_internet = [\"internet_DSL\", \"internet_Fiber optic\", \"StreamingTV\", \"StreamingMovies\", \"DeviceProtection\", \"OnlineBackup\", \"TechSupport\",\"OnlineSecurity\"]\n",
    "product_phone = [\"PhoneService\", \"MultipleLines\", \"internet_No\"]\n",
    "customer = [\"SeniorCitizen\", \"gender\", \"Partner\", \"Dependents\", \"Churn\"]"
   ]
  },
  {
   "cell_type": "code",
   "execution_count": 51,
   "metadata": {},
   "outputs": [
    {
     "data": {
      "text/html": [
       "<div>\n",
       "<style scoped>\n",
       "    .dataframe tbody tr th:only-of-type {\n",
       "        vertical-align: middle;\n",
       "    }\n",
       "\n",
       "    .dataframe tbody tr th {\n",
       "        vertical-align: top;\n",
       "    }\n",
       "\n",
       "    .dataframe thead th {\n",
       "        text-align: right;\n",
       "    }\n",
       "</style>\n",
       "<table border=\"1\" class=\"dataframe\">\n",
       "  <thead>\n",
       "    <tr style=\"text-align: right;\">\n",
       "      <th></th>\n",
       "      <th>category</th>\n",
       "      <th>variable</th>\n",
       "      <th>churnUsers</th>\n",
       "      <th>totalUsers</th>\n",
       "      <th>%_Churn</th>\n",
       "      <th>%_Users</th>\n",
       "      <th>MonthlyCharges</th>\n",
       "    </tr>\n",
       "  </thead>\n",
       "  <tbody>\n",
       "    <tr>\n",
       "      <th>21</th>\n",
       "      <td>setup</td>\n",
       "      <td>payment_Electronic check</td>\n",
       "      <td>1071</td>\n",
       "      <td>2365</td>\n",
       "      <td>0.45</td>\n",
       "      <td>0.34</td>\n",
       "      <td>76.26</td>\n",
       "    </tr>\n",
       "    <tr>\n",
       "      <th>12</th>\n",
       "      <td>setup</td>\n",
       "      <td>contract_Month-to-month</td>\n",
       "      <td>1655</td>\n",
       "      <td>3875</td>\n",
       "      <td>0.43</td>\n",
       "      <td>0.55</td>\n",
       "      <td>66.40</td>\n",
       "    </tr>\n",
       "    <tr>\n",
       "      <th>8</th>\n",
       "      <td>customer</td>\n",
       "      <td>SeniorCitizen</td>\n",
       "      <td>476</td>\n",
       "      <td>1142</td>\n",
       "      <td>0.42</td>\n",
       "      <td>0.16</td>\n",
       "      <td>79.82</td>\n",
       "    </tr>\n",
       "    <tr>\n",
       "      <th>17</th>\n",
       "      <td>product_internet</td>\n",
       "      <td>internet_Fiber optic</td>\n",
       "      <td>1297</td>\n",
       "      <td>3096</td>\n",
       "      <td>0.42</td>\n",
       "      <td>0.44</td>\n",
       "      <td>91.50</td>\n",
       "    </tr>\n",
       "    <tr>\n",
       "      <th>5</th>\n",
       "      <td>setup</td>\n",
       "      <td>PaperlessBilling</td>\n",
       "      <td>1400</td>\n",
       "      <td>4171</td>\n",
       "      <td>0.34</td>\n",
       "      <td>0.59</td>\n",
       "      <td>73.55</td>\n",
       "    </tr>\n",
       "    <tr>\n",
       "      <th>9</th>\n",
       "      <td>product_internet</td>\n",
       "      <td>StreamingMovies</td>\n",
       "      <td>818</td>\n",
       "      <td>2732</td>\n",
       "      <td>0.30</td>\n",
       "      <td>0.39</td>\n",
       "      <td>88.48</td>\n",
       "    </tr>\n",
       "    <tr>\n",
       "      <th>10</th>\n",
       "      <td>product_internet</td>\n",
       "      <td>StreamingTV</td>\n",
       "      <td>814</td>\n",
       "      <td>2707</td>\n",
       "      <td>0.30</td>\n",
       "      <td>0.38</td>\n",
       "      <td>88.74</td>\n",
       "    </tr>\n",
       "    <tr>\n",
       "      <th>2</th>\n",
       "      <td>product_phone</td>\n",
       "      <td>MultipleLines</td>\n",
       "      <td>850</td>\n",
       "      <td>2971</td>\n",
       "      <td>0.29</td>\n",
       "      <td>0.42</td>\n",
       "      <td>82.04</td>\n",
       "    </tr>\n",
       "    <tr>\n",
       "      <th>15</th>\n",
       "      <td>customer</td>\n",
       "      <td>gender</td>\n",
       "      <td>939</td>\n",
       "      <td>3488</td>\n",
       "      <td>0.27</td>\n",
       "      <td>0.50</td>\n",
       "      <td>65.20</td>\n",
       "    </tr>\n",
       "    <tr>\n",
       "      <th>7</th>\n",
       "      <td>product_phone</td>\n",
       "      <td>PhoneService</td>\n",
       "      <td>1699</td>\n",
       "      <td>6361</td>\n",
       "      <td>0.27</td>\n",
       "      <td>0.90</td>\n",
       "      <td>67.20</td>\n",
       "    </tr>\n",
       "    <tr>\n",
       "      <th>1</th>\n",
       "      <td>product_internet</td>\n",
       "      <td>DeviceProtection</td>\n",
       "      <td>545</td>\n",
       "      <td>2422</td>\n",
       "      <td>0.23</td>\n",
       "      <td>0.34</td>\n",
       "      <td>84.82</td>\n",
       "    </tr>\n",
       "    <tr>\n",
       "      <th>3</th>\n",
       "      <td>product_internet</td>\n",
       "      <td>OnlineBackup</td>\n",
       "      <td>523</td>\n",
       "      <td>2429</td>\n",
       "      <td>0.22</td>\n",
       "      <td>0.34</td>\n",
       "      <td>83.08</td>\n",
       "    </tr>\n",
       "    <tr>\n",
       "      <th>6</th>\n",
       "      <td>customer</td>\n",
       "      <td>Partner</td>\n",
       "      <td>669</td>\n",
       "      <td>3402</td>\n",
       "      <td>0.20</td>\n",
       "      <td>0.48</td>\n",
       "      <td>67.78</td>\n",
       "    </tr>\n",
       "    <tr>\n",
       "      <th>22</th>\n",
       "      <td>setup</td>\n",
       "      <td>payment_Mailed check</td>\n",
       "      <td>308</td>\n",
       "      <td>1612</td>\n",
       "      <td>0.19</td>\n",
       "      <td>0.23</td>\n",
       "      <td>43.92</td>\n",
       "    </tr>\n",
       "    <tr>\n",
       "      <th>16</th>\n",
       "      <td>product_internet</td>\n",
       "      <td>internet_DSL</td>\n",
       "      <td>459</td>\n",
       "      <td>2421</td>\n",
       "      <td>0.19</td>\n",
       "      <td>0.34</td>\n",
       "      <td>58.10</td>\n",
       "    </tr>\n",
       "    <tr>\n",
       "      <th>19</th>\n",
       "      <td>customer</td>\n",
       "      <td>payment_Bank transfer (automatic)</td>\n",
       "      <td>258</td>\n",
       "      <td>1544</td>\n",
       "      <td>0.17</td>\n",
       "      <td>0.22</td>\n",
       "      <td>67.19</td>\n",
       "    </tr>\n",
       "    <tr>\n",
       "      <th>20</th>\n",
       "      <td>setup</td>\n",
       "      <td>payment_Credit card (automatic)</td>\n",
       "      <td>232</td>\n",
       "      <td>1522</td>\n",
       "      <td>0.15</td>\n",
       "      <td>0.22</td>\n",
       "      <td>66.51</td>\n",
       "    </tr>\n",
       "    <tr>\n",
       "      <th>0</th>\n",
       "      <td>customer</td>\n",
       "      <td>Dependents</td>\n",
       "      <td>326</td>\n",
       "      <td>2110</td>\n",
       "      <td>0.15</td>\n",
       "      <td>0.30</td>\n",
       "      <td>59.52</td>\n",
       "    </tr>\n",
       "    <tr>\n",
       "      <th>4</th>\n",
       "      <td>product_internet</td>\n",
       "      <td>OnlineSecurity</td>\n",
       "      <td>295</td>\n",
       "      <td>2019</td>\n",
       "      <td>0.15</td>\n",
       "      <td>0.29</td>\n",
       "      <td>78.84</td>\n",
       "    </tr>\n",
       "    <tr>\n",
       "      <th>11</th>\n",
       "      <td>product_internet</td>\n",
       "      <td>TechSupport</td>\n",
       "      <td>310</td>\n",
       "      <td>2044</td>\n",
       "      <td>0.15</td>\n",
       "      <td>0.29</td>\n",
       "      <td>80.68</td>\n",
       "    </tr>\n",
       "    <tr>\n",
       "      <th>13</th>\n",
       "      <td>setup</td>\n",
       "      <td>contract_One year</td>\n",
       "      <td>166</td>\n",
       "      <td>1473</td>\n",
       "      <td>0.11</td>\n",
       "      <td>0.21</td>\n",
       "      <td>65.05</td>\n",
       "    </tr>\n",
       "    <tr>\n",
       "      <th>18</th>\n",
       "      <td>product_phone</td>\n",
       "      <td>internet_No</td>\n",
       "      <td>113</td>\n",
       "      <td>1526</td>\n",
       "      <td>0.07</td>\n",
       "      <td>0.22</td>\n",
       "      <td>21.08</td>\n",
       "    </tr>\n",
       "    <tr>\n",
       "      <th>14</th>\n",
       "      <td>setup</td>\n",
       "      <td>contract_Two year</td>\n",
       "      <td>48</td>\n",
       "      <td>1695</td>\n",
       "      <td>0.03</td>\n",
       "      <td>0.24</td>\n",
       "      <td>60.77</td>\n",
       "    </tr>\n",
       "  </tbody>\n",
       "</table>\n",
       "</div>"
      ],
      "text/plain": [
       "            category                           variable  churnUsers  \\\n",
       "21             setup           payment_Electronic check        1071   \n",
       "12             setup            contract_Month-to-month        1655   \n",
       "8           customer                      SeniorCitizen         476   \n",
       "17  product_internet               internet_Fiber optic        1297   \n",
       "5              setup                   PaperlessBilling        1400   \n",
       "9   product_internet                    StreamingMovies         818   \n",
       "10  product_internet                        StreamingTV         814   \n",
       "2      product_phone                      MultipleLines         850   \n",
       "15          customer                             gender         939   \n",
       "7      product_phone                       PhoneService        1699   \n",
       "1   product_internet                   DeviceProtection         545   \n",
       "3   product_internet                       OnlineBackup         523   \n",
       "6           customer                            Partner         669   \n",
       "22             setup               payment_Mailed check         308   \n",
       "16  product_internet                       internet_DSL         459   \n",
       "19          customer  payment_Bank transfer (automatic)         258   \n",
       "20             setup    payment_Credit card (automatic)         232   \n",
       "0           customer                         Dependents         326   \n",
       "4   product_internet                     OnlineSecurity         295   \n",
       "11  product_internet                        TechSupport         310   \n",
       "13             setup                  contract_One year         166   \n",
       "18     product_phone                        internet_No         113   \n",
       "14             setup                  contract_Two year          48   \n",
       "\n",
       "    totalUsers  %_Churn  %_Users  MonthlyCharges  \n",
       "21        2365     0.45     0.34           76.26  \n",
       "12        3875     0.43     0.55           66.40  \n",
       "8         1142     0.42     0.16           79.82  \n",
       "17        3096     0.42     0.44           91.50  \n",
       "5         4171     0.34     0.59           73.55  \n",
       "9         2732     0.30     0.39           88.48  \n",
       "10        2707     0.30     0.38           88.74  \n",
       "2         2971     0.29     0.42           82.04  \n",
       "15        3488     0.27     0.50           65.20  \n",
       "7         6361     0.27     0.90           67.20  \n",
       "1         2422     0.23     0.34           84.82  \n",
       "3         2429     0.22     0.34           83.08  \n",
       "6         3402     0.20     0.48           67.78  \n",
       "22        1612     0.19     0.23           43.92  \n",
       "16        2421     0.19     0.34           58.10  \n",
       "19        1544     0.17     0.22           67.19  \n",
       "20        1522     0.15     0.22           66.51  \n",
       "0         2110     0.15     0.30           59.52  \n",
       "4         2019     0.15     0.29           78.84  \n",
       "11        2044     0.15     0.29           80.68  \n",
       "13        1473     0.11     0.21           65.05  \n",
       "18        1526     0.07     0.22           21.08  \n",
       "14        1695     0.03     0.24           60.77  "
      ]
     },
     "execution_count": 51,
     "metadata": {},
     "output_type": "execute_result"
    }
   ],
   "source": [
    "# Drop Non-Categorical Variables\n",
    "dfGraph = dfNums.drop(columns=[\"tenure\", \"MonthlyCharges\", \"TotalCharges\"])\n",
    "\n",
    "# Use melt method to be able to groupby columns, \"Churn\" variable is taken out to be able to filter\n",
    "dfMelted = dfNums.melt(id_vars=['Churn'], value_vars=list(dfGraph.columns))\n",
    "\n",
    "# Get total number of users per variable using the sum method\n",
    "dfUsers = dfMelted.groupby(by=['variable'], as_index=False)['value'].sum().rename({'value':'totalUsers'}, axis=1)\n",
    "\n",
    "# Filter the Melted Df to get only churning users, then group by to get the total number of churning users per variable\n",
    "dfUsersChurn = dfMelted.loc[dfMelted['Churn'] == 1, :]\n",
    "dfUsersChurn = dfUsersChurn.groupby(by=['variable'], as_index=False)['value'].sum().rename({'value':'churnUsers'}, axis=1)\n",
    "\n",
    "# Calculate average tenure for users within each Categorical Variable. Use melt method, then groupby for only those users in each category.\n",
    "dfCharges = dfNums.melt(id_vars=['MonthlyCharges'], value_vars=list(dfGraph.columns))\n",
    "dfCharges = dfCharges.loc[dfCharges['value'] == 1, :].groupby(by='variable',as_index=False)['MonthlyCharges'].mean()\n",
    "\n",
    "# Merge series to get a dataframe: dfUsers + dfUsersChurn + dfTenure\n",
    "dfGraph = pd.merge(dfUsers, dfUsersChurn, on='variable')\n",
    "dfGraph = pd.merge(dfGraph, dfCharges, on='variable')\n",
    "\n",
    "def categories(var):\n",
    "    if var in setup:\n",
    "        return \"setup\"\n",
    "    if var in product_internet:\n",
    "        return \"product_internet\"\n",
    "    if var in product_phone:\n",
    "        return \"product_phone\"\n",
    "    return \"customer\"\n",
    "\n",
    "# Categorize variables into categories by using 'categories' function\n",
    "dfGraph['category'] = dfGraph['variable'].apply(lambda var: categories(var))\n",
    "\n",
    "# Calculate %_Churn and %_Users for each of the variables\n",
    "dfGraph['%_Churn'] = dfGraph.churnUsers/dfGraph.totalUsers\n",
    "dfGraph['%_Users'] = dfGraph.totalUsers/len(df)\n",
    "\n",
    "# Round to two decimals\n",
    "dfGraph = dfGraph.round(2)\n",
    "\n",
    "# Order columns for better visualization\n",
    "dfGraph = dfGraph[['category','variable','churnUsers', 'totalUsers', '%_Churn', '%_Users', 'MonthlyCharges']]\n",
    "# Sort by %_Churn\n",
    "dfGraph.sort_values('%_Churn', ascending=False)"
   ]
  },
  {
   "cell_type": "code",
   "execution_count": 52,
   "metadata": {},
   "outputs": [
    {
     "data": {
      "application/vnd.plotly.v1+json": {
       "config": {
        "plotlyServerURL": "https://plot.ly"
       },
       "data": [
        {
         "alignmentgroup": "True",
         "hovertemplate": "InternetService=%{x}<br>size=%{y}<br>Churn=%{marker.color}<extra></extra>",
         "legendgroup": "",
         "marker": {
          "color": [
           0,
           1,
           0,
           1,
           0,
           1
          ],
          "coloraxis": "coloraxis",
          "pattern": {
           "shape": ""
          }
         },
         "name": "",
         "offsetgroup": "",
         "orientation": "v",
         "showlegend": false,
         "textposition": "auto",
         "type": "bar",
         "x": [
          "DSL",
          "DSL",
          "Fiber optic",
          "Fiber optic",
          "No",
          "No"
         ],
         "xaxis": "x",
         "y": [
          1962,
          459,
          1799,
          1297,
          1413,
          113
         ],
         "yaxis": "y"
        }
       ],
       "layout": {
        "autosize": true,
        "barmode": "relative",
        "coloraxis": {
         "colorbar": {
          "title": {
           "text": "Churn"
          }
         },
         "colorscale": [
          [
           0,
           "#0d0887"
          ],
          [
           0.1111111111111111,
           "#46039f"
          ],
          [
           0.2222222222222222,
           "#7201a8"
          ],
          [
           0.3333333333333333,
           "#9c179e"
          ],
          [
           0.4444444444444444,
           "#bd3786"
          ],
          [
           0.5555555555555556,
           "#d8576b"
          ],
          [
           0.6666666666666666,
           "#ed7953"
          ],
          [
           0.7777777777777778,
           "#fb9f3a"
          ],
          [
           0.8888888888888888,
           "#fdca26"
          ],
          [
           1,
           "#f0f921"
          ]
         ]
        },
        "legend": {
         "tracegroupgap": 0
        },
        "template": {
         "data": {
          "bar": [
           {
            "error_x": {
             "color": "#2a3f5f"
            },
            "error_y": {
             "color": "#2a3f5f"
            },
            "marker": {
             "line": {
              "color": "#E5ECF6",
              "width": 0.5
             },
             "pattern": {
              "fillmode": "overlay",
              "size": 10,
              "solidity": 0.2
             }
            },
            "type": "bar"
           }
          ],
          "barpolar": [
           {
            "marker": {
             "line": {
              "color": "#E5ECF6",
              "width": 0.5
             },
             "pattern": {
              "fillmode": "overlay",
              "size": 10,
              "solidity": 0.2
             }
            },
            "type": "barpolar"
           }
          ],
          "carpet": [
           {
            "aaxis": {
             "endlinecolor": "#2a3f5f",
             "gridcolor": "white",
             "linecolor": "white",
             "minorgridcolor": "white",
             "startlinecolor": "#2a3f5f"
            },
            "baxis": {
             "endlinecolor": "#2a3f5f",
             "gridcolor": "white",
             "linecolor": "white",
             "minorgridcolor": "white",
             "startlinecolor": "#2a3f5f"
            },
            "type": "carpet"
           }
          ],
          "choropleth": [
           {
            "colorbar": {
             "outlinewidth": 0,
             "ticks": ""
            },
            "type": "choropleth"
           }
          ],
          "contour": [
           {
            "colorbar": {
             "outlinewidth": 0,
             "ticks": ""
            },
            "colorscale": [
             [
              0,
              "#0d0887"
             ],
             [
              0.1111111111111111,
              "#46039f"
             ],
             [
              0.2222222222222222,
              "#7201a8"
             ],
             [
              0.3333333333333333,
              "#9c179e"
             ],
             [
              0.4444444444444444,
              "#bd3786"
             ],
             [
              0.5555555555555556,
              "#d8576b"
             ],
             [
              0.6666666666666666,
              "#ed7953"
             ],
             [
              0.7777777777777778,
              "#fb9f3a"
             ],
             [
              0.8888888888888888,
              "#fdca26"
             ],
             [
              1,
              "#f0f921"
             ]
            ],
            "type": "contour"
           }
          ],
          "contourcarpet": [
           {
            "colorbar": {
             "outlinewidth": 0,
             "ticks": ""
            },
            "type": "contourcarpet"
           }
          ],
          "heatmap": [
           {
            "colorbar": {
             "outlinewidth": 0,
             "ticks": ""
            },
            "colorscale": [
             [
              0,
              "#0d0887"
             ],
             [
              0.1111111111111111,
              "#46039f"
             ],
             [
              0.2222222222222222,
              "#7201a8"
             ],
             [
              0.3333333333333333,
              "#9c179e"
             ],
             [
              0.4444444444444444,
              "#bd3786"
             ],
             [
              0.5555555555555556,
              "#d8576b"
             ],
             [
              0.6666666666666666,
              "#ed7953"
             ],
             [
              0.7777777777777778,
              "#fb9f3a"
             ],
             [
              0.8888888888888888,
              "#fdca26"
             ],
             [
              1,
              "#f0f921"
             ]
            ],
            "type": "heatmap"
           }
          ],
          "heatmapgl": [
           {
            "colorbar": {
             "outlinewidth": 0,
             "ticks": ""
            },
            "colorscale": [
             [
              0,
              "#0d0887"
             ],
             [
              0.1111111111111111,
              "#46039f"
             ],
             [
              0.2222222222222222,
              "#7201a8"
             ],
             [
              0.3333333333333333,
              "#9c179e"
             ],
             [
              0.4444444444444444,
              "#bd3786"
             ],
             [
              0.5555555555555556,
              "#d8576b"
             ],
             [
              0.6666666666666666,
              "#ed7953"
             ],
             [
              0.7777777777777778,
              "#fb9f3a"
             ],
             [
              0.8888888888888888,
              "#fdca26"
             ],
             [
              1,
              "#f0f921"
             ]
            ],
            "type": "heatmapgl"
           }
          ],
          "histogram": [
           {
            "marker": {
             "pattern": {
              "fillmode": "overlay",
              "size": 10,
              "solidity": 0.2
             }
            },
            "type": "histogram"
           }
          ],
          "histogram2d": [
           {
            "colorbar": {
             "outlinewidth": 0,
             "ticks": ""
            },
            "colorscale": [
             [
              0,
              "#0d0887"
             ],
             [
              0.1111111111111111,
              "#46039f"
             ],
             [
              0.2222222222222222,
              "#7201a8"
             ],
             [
              0.3333333333333333,
              "#9c179e"
             ],
             [
              0.4444444444444444,
              "#bd3786"
             ],
             [
              0.5555555555555556,
              "#d8576b"
             ],
             [
              0.6666666666666666,
              "#ed7953"
             ],
             [
              0.7777777777777778,
              "#fb9f3a"
             ],
             [
              0.8888888888888888,
              "#fdca26"
             ],
             [
              1,
              "#f0f921"
             ]
            ],
            "type": "histogram2d"
           }
          ],
          "histogram2dcontour": [
           {
            "colorbar": {
             "outlinewidth": 0,
             "ticks": ""
            },
            "colorscale": [
             [
              0,
              "#0d0887"
             ],
             [
              0.1111111111111111,
              "#46039f"
             ],
             [
              0.2222222222222222,
              "#7201a8"
             ],
             [
              0.3333333333333333,
              "#9c179e"
             ],
             [
              0.4444444444444444,
              "#bd3786"
             ],
             [
              0.5555555555555556,
              "#d8576b"
             ],
             [
              0.6666666666666666,
              "#ed7953"
             ],
             [
              0.7777777777777778,
              "#fb9f3a"
             ],
             [
              0.8888888888888888,
              "#fdca26"
             ],
             [
              1,
              "#f0f921"
             ]
            ],
            "type": "histogram2dcontour"
           }
          ],
          "mesh3d": [
           {
            "colorbar": {
             "outlinewidth": 0,
             "ticks": ""
            },
            "type": "mesh3d"
           }
          ],
          "parcoords": [
           {
            "line": {
             "colorbar": {
              "outlinewidth": 0,
              "ticks": ""
             }
            },
            "type": "parcoords"
           }
          ],
          "pie": [
           {
            "automargin": true,
            "type": "pie"
           }
          ],
          "scatter": [
           {
            "fillpattern": {
             "fillmode": "overlay",
             "size": 10,
             "solidity": 0.2
            },
            "type": "scatter"
           }
          ],
          "scatter3d": [
           {
            "line": {
             "colorbar": {
              "outlinewidth": 0,
              "ticks": ""
             }
            },
            "marker": {
             "colorbar": {
              "outlinewidth": 0,
              "ticks": ""
             }
            },
            "type": "scatter3d"
           }
          ],
          "scattercarpet": [
           {
            "marker": {
             "colorbar": {
              "outlinewidth": 0,
              "ticks": ""
             }
            },
            "type": "scattercarpet"
           }
          ],
          "scattergeo": [
           {
            "marker": {
             "colorbar": {
              "outlinewidth": 0,
              "ticks": ""
             }
            },
            "type": "scattergeo"
           }
          ],
          "scattergl": [
           {
            "marker": {
             "colorbar": {
              "outlinewidth": 0,
              "ticks": ""
             }
            },
            "type": "scattergl"
           }
          ],
          "scattermapbox": [
           {
            "marker": {
             "colorbar": {
              "outlinewidth": 0,
              "ticks": ""
             }
            },
            "type": "scattermapbox"
           }
          ],
          "scatterpolar": [
           {
            "marker": {
             "colorbar": {
              "outlinewidth": 0,
              "ticks": ""
             }
            },
            "type": "scatterpolar"
           }
          ],
          "scatterpolargl": [
           {
            "marker": {
             "colorbar": {
              "outlinewidth": 0,
              "ticks": ""
             }
            },
            "type": "scatterpolargl"
           }
          ],
          "scatterternary": [
           {
            "marker": {
             "colorbar": {
              "outlinewidth": 0,
              "ticks": ""
             }
            },
            "type": "scatterternary"
           }
          ],
          "surface": [
           {
            "colorbar": {
             "outlinewidth": 0,
             "ticks": ""
            },
            "colorscale": [
             [
              0,
              "#0d0887"
             ],
             [
              0.1111111111111111,
              "#46039f"
             ],
             [
              0.2222222222222222,
              "#7201a8"
             ],
             [
              0.3333333333333333,
              "#9c179e"
             ],
             [
              0.4444444444444444,
              "#bd3786"
             ],
             [
              0.5555555555555556,
              "#d8576b"
             ],
             [
              0.6666666666666666,
              "#ed7953"
             ],
             [
              0.7777777777777778,
              "#fb9f3a"
             ],
             [
              0.8888888888888888,
              "#fdca26"
             ],
             [
              1,
              "#f0f921"
             ]
            ],
            "type": "surface"
           }
          ],
          "table": [
           {
            "cells": {
             "fill": {
              "color": "#EBF0F8"
             },
             "line": {
              "color": "white"
             }
            },
            "header": {
             "fill": {
              "color": "#C8D4E3"
             },
             "line": {
              "color": "white"
             }
            },
            "type": "table"
           }
          ]
         },
         "layout": {
          "annotationdefaults": {
           "arrowcolor": "#2a3f5f",
           "arrowhead": 0,
           "arrowwidth": 1
          },
          "autotypenumbers": "strict",
          "coloraxis": {
           "colorbar": {
            "outlinewidth": 0,
            "ticks": ""
           }
          },
          "colorscale": {
           "diverging": [
            [
             0,
             "#8e0152"
            ],
            [
             0.1,
             "#c51b7d"
            ],
            [
             0.2,
             "#de77ae"
            ],
            [
             0.3,
             "#f1b6da"
            ],
            [
             0.4,
             "#fde0ef"
            ],
            [
             0.5,
             "#f7f7f7"
            ],
            [
             0.6,
             "#e6f5d0"
            ],
            [
             0.7,
             "#b8e186"
            ],
            [
             0.8,
             "#7fbc41"
            ],
            [
             0.9,
             "#4d9221"
            ],
            [
             1,
             "#276419"
            ]
           ],
           "sequential": [
            [
             0,
             "#0d0887"
            ],
            [
             0.1111111111111111,
             "#46039f"
            ],
            [
             0.2222222222222222,
             "#7201a8"
            ],
            [
             0.3333333333333333,
             "#9c179e"
            ],
            [
             0.4444444444444444,
             "#bd3786"
            ],
            [
             0.5555555555555556,
             "#d8576b"
            ],
            [
             0.6666666666666666,
             "#ed7953"
            ],
            [
             0.7777777777777778,
             "#fb9f3a"
            ],
            [
             0.8888888888888888,
             "#fdca26"
            ],
            [
             1,
             "#f0f921"
            ]
           ],
           "sequentialminus": [
            [
             0,
             "#0d0887"
            ],
            [
             0.1111111111111111,
             "#46039f"
            ],
            [
             0.2222222222222222,
             "#7201a8"
            ],
            [
             0.3333333333333333,
             "#9c179e"
            ],
            [
             0.4444444444444444,
             "#bd3786"
            ],
            [
             0.5555555555555556,
             "#d8576b"
            ],
            [
             0.6666666666666666,
             "#ed7953"
            ],
            [
             0.7777777777777778,
             "#fb9f3a"
            ],
            [
             0.8888888888888888,
             "#fdca26"
            ],
            [
             1,
             "#f0f921"
            ]
           ]
          },
          "colorway": [
           "#636efa",
           "#EF553B",
           "#00cc96",
           "#ab63fa",
           "#FFA15A",
           "#19d3f3",
           "#FF6692",
           "#B6E880",
           "#FF97FF",
           "#FECB52"
          ],
          "font": {
           "color": "#2a3f5f"
          },
          "geo": {
           "bgcolor": "white",
           "lakecolor": "white",
           "landcolor": "#E5ECF6",
           "showlakes": true,
           "showland": true,
           "subunitcolor": "white"
          },
          "hoverlabel": {
           "align": "left"
          },
          "hovermode": "closest",
          "mapbox": {
           "style": "light"
          },
          "paper_bgcolor": "white",
          "plot_bgcolor": "#E5ECF6",
          "polar": {
           "angularaxis": {
            "gridcolor": "white",
            "linecolor": "white",
            "ticks": ""
           },
           "bgcolor": "#E5ECF6",
           "radialaxis": {
            "gridcolor": "white",
            "linecolor": "white",
            "ticks": ""
           }
          },
          "scene": {
           "xaxis": {
            "backgroundcolor": "#E5ECF6",
            "gridcolor": "white",
            "gridwidth": 2,
            "linecolor": "white",
            "showbackground": true,
            "ticks": "",
            "zerolinecolor": "white"
           },
           "yaxis": {
            "backgroundcolor": "#E5ECF6",
            "gridcolor": "white",
            "gridwidth": 2,
            "linecolor": "white",
            "showbackground": true,
            "ticks": "",
            "zerolinecolor": "white"
           },
           "zaxis": {
            "backgroundcolor": "#E5ECF6",
            "gridcolor": "white",
            "gridwidth": 2,
            "linecolor": "white",
            "showbackground": true,
            "ticks": "",
            "zerolinecolor": "white"
           }
          },
          "shapedefaults": {
           "line": {
            "color": "#2a3f5f"
           }
          },
          "ternary": {
           "aaxis": {
            "gridcolor": "white",
            "linecolor": "white",
            "ticks": ""
           },
           "baxis": {
            "gridcolor": "white",
            "linecolor": "white",
            "ticks": ""
           },
           "bgcolor": "#E5ECF6",
           "caxis": {
            "gridcolor": "white",
            "linecolor": "white",
            "ticks": ""
           }
          },
          "title": {
           "x": 0.05
          },
          "xaxis": {
           "automargin": true,
           "gridcolor": "white",
           "linecolor": "white",
           "ticks": "",
           "title": {
            "standoff": 15
           },
           "zerolinecolor": "white",
           "zerolinewidth": 2
          },
          "yaxis": {
           "automargin": true,
           "gridcolor": "white",
           "linecolor": "white",
           "ticks": "",
           "title": {
            "standoff": 15
           },
           "zerolinecolor": "white",
           "zerolinewidth": 2
          }
         }
        },
        "title": {
         "text": "Churn by Internet Service"
        },
        "xaxis": {
         "anchor": "y",
         "autorange": true,
         "domain": [
          0,
          1
         ],
         "range": [
          -0.5,
          2.5
         ],
         "title": {
          "text": "InternetService"
         },
         "type": "category"
        },
        "yaxis": {
         "anchor": "x",
         "autorange": true,
         "domain": [
          0,
          1
         ],
         "range": [
          0,
          3258.9473684210525
         ],
         "title": {
          "text": "size"
         },
         "type": "linear"
        }
       }
      },
      "image/png": "[encoded data removed]",
      "text/html": [
       "<div>                            <div id=\"4e93bcfd-dbaa-471a-9e57-b67a17101a04\" class=\"plotly-graph-div\" style=\"height:500px; width:100%;\"></div>            <script type=\"text/javascript\">                require([\"plotly\"], function(Plotly) {                    window.PLOTLYENV=window.PLOTLYENV || {};                                    if (document.getElementById(\"4e93bcfd-dbaa-471a-9e57-b67a17101a04\")) {                    Plotly.newPlot(                        \"4e93bcfd-dbaa-471a-9e57-b67a17101a04\",                        [{\"alignmentgroup\":\"True\",\"hovertemplate\":\"InternetService=%{x}<br>size=%{y}<br>Churn=%{marker.color}<extra></extra>\",\"legendgroup\":\"\",\"marker\":{\"color\":[0,1,0,1,0,1],\"coloraxis\":\"coloraxis\",\"pattern\":{\"shape\":\"\"}},\"name\":\"\",\"offsetgroup\":\"\",\"orientation\":\"v\",\"showlegend\":false,\"textposition\":\"auto\",\"x\":[\"DSL\",\"DSL\",\"Fiber optic\",\"Fiber optic\",\"No\",\"No\"],\"xaxis\":\"x\",\"y\":[1962,459,1799,1297,1413,113],\"yaxis\":\"y\",\"type\":\"bar\"}],                        {\"template\":{\"data\":{\"histogram2dcontour\":[{\"type\":\"histogram2dcontour\",\"colorbar\":{\"outlinewidth\":0,\"ticks\":\"\"},\"colorscale\":[[0.0,\"#0d0887\"],[0.1111111111111111,\"#46039f\"],[0.2222222222222222,\"#7201a8\"],[0.3333333333333333,\"#9c179e\"],[0.4444444444444444,\"#bd3786\"],[0.5555555555555556,\"#d8576b\"],[0.6666666666666666,\"#ed7953\"],[0.7777777777777778,\"#fb9f3a\"],[0.8888888888888888,\"#fdca26\"],[1.0,\"#f0f921\"]]}],\"choropleth\":[{\"type\":\"choropleth\",\"colorbar\":{\"outlinewidth\":0,\"ticks\":\"\"}}],\"histogram2d\":[{\"type\":\"histogram2d\",\"colorbar\":{\"outlinewidth\":0,\"ticks\":\"\"},\"colorscale\":[[0.0,\"#0d0887\"],[0.1111111111111111,\"#46039f\"],[0.2222222222222222,\"#7201a8\"],[0.3333333333333333,\"#9c179e\"],[0.4444444444444444,\"#bd3786\"],[0.5555555555555556,\"#d8576b\"],[0.6666666666666666,\"#ed7953\"],[0.7777777777777778,\"#fb9f3a\"],[0.8888888888888888,\"#fdca26\"],[1.0,\"#f0f921\"]]}],\"heatmap\":[{\"type\":\"heatmap\",\"colorbar\":{\"outlinewidth\":0,\"ticks\":\"\"},\"colorscale\":[[0.0,\"#0d0887\"],[0.1111111111111111,\"#46039f\"],[0.2222222222222222,\"#7201a8\"],[0.3333333333333333,\"#9c179e\"],[0.4444444444444444,\"#bd3786\"],[0.5555555555555556,\"#d8576b\"],[0.6666666666666666,\"#ed7953\"],[0.7777777777777778,\"#fb9f3a\"],[0.8888888888888888,\"#fdca26\"],[1.0,\"#f0f921\"]]}],\"heatmapgl\":[{\"type\":\"heatmapgl\",\"colorbar\":{\"outlinewidth\":0,\"ticks\":\"\"},\"colorscale\":[[0.0,\"#0d0887\"],[0.1111111111111111,\"#46039f\"],[0.2222222222222222,\"#7201a8\"],[0.3333333333333333,\"#9c179e\"],[0.4444444444444444,\"#bd3786\"],[0.5555555555555556,\"#d8576b\"],[0.6666666666666666,\"#ed7953\"],[0.7777777777777778,\"#fb9f3a\"],[0.8888888888888888,\"#fdca26\"],[1.0,\"#f0f921\"]]}],\"contourcarpet\":[{\"type\":\"contourcarpet\",\"colorbar\":{\"outlinewidth\":0,\"ticks\":\"\"}}],\"contour\":[{\"type\":\"contour\",\"colorbar\":{\"outlinewidth\":0,\"ticks\":\"\"},\"colorscale\":[[0.0,\"#0d0887\"],[0.1111111111111111,\"#46039f\"],[0.2222222222222222,\"#7201a8\"],[0.3333333333333333,\"#9c179e\"],[0.4444444444444444,\"#bd3786\"],[0.5555555555555556,\"#d8576b\"],[0.6666666666666666,\"#ed7953\"],[0.7777777777777778,\"#fb9f3a\"],[0.8888888888888888,\"#fdca26\"],[1.0,\"#f0f921\"]]}],\"surface\":[{\"type\":\"surface\",\"colorbar\":{\"outlinewidth\":0,\"ticks\":\"\"},\"colorscale\":[[0.0,\"#0d0887\"],[0.1111111111111111,\"#46039f\"],[0.2222222222222222,\"#7201a8\"],[0.3333333333333333,\"#9c179e\"],[0.4444444444444444,\"#bd3786\"],[0.5555555555555556,\"#d8576b\"],[0.6666666666666666,\"#ed7953\"],[0.7777777777777778,\"#fb9f3a\"],[0.8888888888888888,\"#fdca26\"],[1.0,\"#f0f921\"]]}],\"mesh3d\":[{\"type\":\"mesh3d\",\"colorbar\":{\"outlinewidth\":0,\"ticks\":\"\"}}],\"scatter\":[{\"fillpattern\":{\"fillmode\":\"overlay\",\"size\":10,\"solidity\":0.2},\"type\":\"scatter\"}],\"parcoords\":[{\"type\":\"parcoords\",\"line\":{\"colorbar\":{\"outlinewidth\":0,\"ticks\":\"\"}}}],\"scatterpolargl\":[{\"type\":\"scatterpolargl\",\"marker\":{\"colorbar\":{\"outlinewidth\":0,\"ticks\":\"\"}}}],\"bar\":[{\"error_x\":{\"color\":\"#2a3f5f\"},\"error_y\":{\"color\":\"#2a3f5f\"},\"marker\":{\"line\":{\"color\":\"#E5ECF6\",\"width\":0.5},\"pattern\":{\"fillmode\":\"overlay\",\"size\":10,\"solidity\":0.2}},\"type\":\"bar\"}],\"scattergeo\":[{\"type\":\"scattergeo\",\"marker\":{\"colorbar\":{\"outlinewidth\":0,\"ticks\":\"\"}}}],\"scatterpolar\":[{\"type\":\"scatterpolar\",\"marker\":{\"colorbar\":{\"outlinewidth\":0,\"ticks\":\"\"}}}],\"histogram\":[{\"marker\":{\"pattern\":{\"fillmode\":\"overlay\",\"size\":10,\"solidity\":0.2}},\"type\":\"histogram\"}],\"scattergl\":[{\"type\":\"scattergl\",\"marker\":{\"colorbar\":{\"outlinewidth\":0,\"ticks\":\"\"}}}],\"scatter3d\":[{\"type\":\"scatter3d\",\"line\":{\"colorbar\":{\"outlinewidth\":0,\"ticks\":\"\"}},\"marker\":{\"colorbar\":{\"outlinewidth\":0,\"ticks\":\"\"}}}],\"scattermapbox\":[{\"type\":\"scattermapbox\",\"marker\":{\"colorbar\":{\"outlinewidth\":0,\"ticks\":\"\"}}}],\"scatterternary\":[{\"type\":\"scatterternary\",\"marker\":{\"colorbar\":{\"outlinewidth\":0,\"ticks\":\"\"}}}],\"scattercarpet\":[{\"type\":\"scattercarpet\",\"marker\":{\"colorbar\":{\"outlinewidth\":0,\"ticks\":\"\"}}}],\"carpet\":[{\"aaxis\":{\"endlinecolor\":\"#2a3f5f\",\"gridcolor\":\"white\",\"linecolor\":\"white\",\"minorgridcolor\":\"white\",\"startlinecolor\":\"#2a3f5f\"},\"baxis\":{\"endlinecolor\":\"#2a3f5f\",\"gridcolor\":\"white\",\"linecolor\":\"white\",\"minorgridcolor\":\"white\",\"startlinecolor\":\"#2a3f5f\"},\"type\":\"carpet\"}],\"table\":[{\"cells\":{\"fill\":{\"color\":\"#EBF0F8\"},\"line\":{\"color\":\"white\"}},\"header\":{\"fill\":{\"color\":\"#C8D4E3\"},\"line\":{\"color\":\"white\"}},\"type\":\"table\"}],\"barpolar\":[{\"marker\":{\"line\":{\"color\":\"#E5ECF6\",\"width\":0.5},\"pattern\":{\"fillmode\":\"overlay\",\"size\":10,\"solidity\":0.2}},\"type\":\"barpolar\"}],\"pie\":[{\"automargin\":true,\"type\":\"pie\"}]},\"layout\":{\"autotypenumbers\":\"strict\",\"colorway\":[\"#636efa\",\"#EF553B\",\"#00cc96\",\"#ab63fa\",\"#FFA15A\",\"#19d3f3\",\"#FF6692\",\"#B6E880\",\"#FF97FF\",\"#FECB52\"],\"font\":{\"color\":\"#2a3f5f\"},\"hovermode\":\"closest\",\"hoverlabel\":{\"align\":\"left\"},\"paper_bgcolor\":\"white\",\"plot_bgcolor\":\"#E5ECF6\",\"polar\":{\"bgcolor\":\"#E5ECF6\",\"angularaxis\":{\"gridcolor\":\"white\",\"linecolor\":\"white\",\"ticks\":\"\"},\"radialaxis\":{\"gridcolor\":\"white\",\"linecolor\":\"white\",\"ticks\":\"\"}},\"ternary\":{\"bgcolor\":\"#E5ECF6\",\"aaxis\":{\"gridcolor\":\"white\",\"linecolor\":\"white\",\"ticks\":\"\"},\"baxis\":{\"gridcolor\":\"white\",\"linecolor\":\"white\",\"ticks\":\"\"},\"caxis\":{\"gridcolor\":\"white\",\"linecolor\":\"white\",\"ticks\":\"\"}},\"coloraxis\":{\"colorbar\":{\"outlinewidth\":0,\"ticks\":\"\"}},\"colorscale\":{\"sequential\":[[0.0,\"#0d0887\"],[0.1111111111111111,\"#46039f\"],[0.2222222222222222,\"#7201a8\"],[0.3333333333333333,\"#9c179e\"],[0.4444444444444444,\"#bd3786\"],[0.5555555555555556,\"#d8576b\"],[0.6666666666666666,\"#ed7953\"],[0.7777777777777778,\"#fb9f3a\"],[0.8888888888888888,\"#fdca26\"],[1.0,\"#f0f921\"]],\"sequentialminus\":[[0.0,\"#0d0887\"],[0.1111111111111111,\"#46039f\"],[0.2222222222222222,\"#7201a8\"],[0.3333333333333333,\"#9c179e\"],[0.4444444444444444,\"#bd3786\"],[0.5555555555555556,\"#d8576b\"],[0.6666666666666666,\"#ed7953\"],[0.7777777777777778,\"#fb9f3a\"],[0.8888888888888888,\"#fdca26\"],[1.0,\"#f0f921\"]],\"diverging\":[[0,\"#8e0152\"],[0.1,\"#c51b7d\"],[0.2,\"#de77ae\"],[0.3,\"#f1b6da\"],[0.4,\"#fde0ef\"],[0.5,\"#f7f7f7\"],[0.6,\"#e6f5d0\"],[0.7,\"#b8e186\"],[0.8,\"#7fbc41\"],[0.9,\"#4d9221\"],[1,\"#276419\"]]},\"xaxis\":{\"gridcolor\":\"white\",\"linecolor\":\"white\",\"ticks\":\"\",\"title\":{\"standoff\":15},\"zerolinecolor\":\"white\",\"automargin\":true,\"zerolinewidth\":2},\"yaxis\":{\"gridcolor\":\"white\",\"linecolor\":\"white\",\"ticks\":\"\",\"title\":{\"standoff\":15},\"zerolinecolor\":\"white\",\"automargin\":true,\"zerolinewidth\":2},\"scene\":{\"xaxis\":{\"backgroundcolor\":\"#E5ECF6\",\"gridcolor\":\"white\",\"linecolor\":\"white\",\"showbackground\":true,\"ticks\":\"\",\"zerolinecolor\":\"white\",\"gridwidth\":2},\"yaxis\":{\"backgroundcolor\":\"#E5ECF6\",\"gridcolor\":\"white\",\"linecolor\":\"white\",\"showbackground\":true,\"ticks\":\"\",\"zerolinecolor\":\"white\",\"gridwidth\":2},\"zaxis\":{\"backgroundcolor\":\"#E5ECF6\",\"gridcolor\":\"white\",\"linecolor\":\"white\",\"showbackground\":true,\"ticks\":\"\",\"zerolinecolor\":\"white\",\"gridwidth\":2}},\"shapedefaults\":{\"line\":{\"color\":\"#2a3f5f\"}},\"annotationdefaults\":{\"arrowcolor\":\"#2a3f5f\",\"arrowhead\":0,\"arrowwidth\":1},\"geo\":{\"bgcolor\":\"white\",\"landcolor\":\"#E5ECF6\",\"subunitcolor\":\"white\",\"showland\":true,\"showlakes\":true,\"lakecolor\":\"white\"},\"title\":{\"x\":0.05},\"mapbox\":{\"style\":\"light\"}}},\"xaxis\":{\"anchor\":\"y\",\"domain\":[0.0,1.0],\"title\":{\"text\":\"InternetService\"}},\"yaxis\":{\"anchor\":\"x\",\"domain\":[0.0,1.0],\"title\":{\"text\":\"size\"}},\"coloraxis\":{\"colorbar\":{\"title\":{\"text\":\"Churn\"}},\"colorscale\":[[0.0,\"#0d0887\"],[0.1111111111111111,\"#46039f\"],[0.2222222222222222,\"#7201a8\"],[0.3333333333333333,\"#9c179e\"],[0.4444444444444444,\"#bd3786\"],[0.5555555555555556,\"#d8576b\"],[0.6666666666666666,\"#ed7953\"],[0.7777777777777778,\"#fb9f3a\"],[0.8888888888888888,\"#fdca26\"],[1.0,\"#f0f921\"]]},\"legend\":{\"tracegroupgap\":0},\"title\":{\"text\":\"Churn by Internet Service\"},\"barmode\":\"relative\",\"height\":500},                        {\"responsive\": true}                    ).then(function(){\n",
       "                            \n",
       "var gd = document.getElementById('4e93bcfd-dbaa-471a-9e57-b67a17101a04');\n",
       "var x = new MutationObserver(function (mutations, observer) {{\n",
       "        var display = window.getComputedStyle(gd).display;\n",
       "        if (!display || display === 'none') {{\n",
       "            console.log([gd, 'removed!']);\n",
       "            Plotly.purge(gd);\n",
       "            observer.disconnect();\n",
       "        }}\n",
       "}});\n",
       "\n",
       "// Listen for the removal of the full notebook cells\n",
       "var notebookContainer = gd.closest('#notebook-container');\n",
       "if (notebookContainer) {{\n",
       "    x.observe(notebookContainer, {childList: true});\n",
       "}}\n",
       "\n",
       "// Listen for the clearing of the current output cell\n",
       "var outputEl = gd.closest('.output');\n",
       "if (outputEl) {{\n",
       "    x.observe(outputEl, {childList: true});\n",
       "}}\n",
       "\n",
       "                        })                };                });            </script>        </div>"
      ]
     },
     "metadata": {},
     "output_type": "display_data"
    }
   ],
   "source": [
    "InternetDf = df[['InternetService','Churn']].groupby(by=['InternetService','Churn'], as_index=False).size()\n",
    "fig = px.bar(InternetDf, x=\"InternetService\", y=\"size\", color=\"Churn\", title=\"Churn by Internet Service\",height=500)\n",
    "fig.show()"
   ]
  },
  {
   "cell_type": "code",
   "execution_count": 53,
   "metadata": {},
   "outputs": [
    {
     "name": "stdout",
     "output_type": "stream",
     "text": [
      "Insight 2: Customers without internet tend to churn less (only 7.0% churn rate vs. 26.54% company average) while customer having the fiber tend to churn much more (42.0% churn rate)\n"
     ]
    }
   ],
   "source": [
    "print(f\"Insight 2: Customers without internet tend to churn less (only {round(dfGraph[dfGraph.variable =='internet_No']['%_Churn'].values[0]*100,2)}% churn rate vs. {round(percentchurn,2)}% company average) while customer having the fiber tend to churn much more ({round(dfGraph[dfGraph.variable =='internet_Fiber optic']['%_Churn'].values[0]*100,2)}% churn rate)\")"
   ]
  },
  {
   "cell_type": "markdown",
   "metadata": {},
   "source": [
    "> **Insight 3** | Zooming into customers with internet service"
   ]
  },
  {
   "cell_type": "code",
   "execution_count": 54,
   "metadata": {},
   "outputs": [
    {
     "data": {
      "text/html": [
       "<div>\n",
       "<style scoped>\n",
       "    .dataframe tbody tr th:only-of-type {\n",
       "        vertical-align: middle;\n",
       "    }\n",
       "\n",
       "    .dataframe tbody tr th {\n",
       "        vertical-align: top;\n",
       "    }\n",
       "\n",
       "    .dataframe thead th {\n",
       "        text-align: right;\n",
       "    }\n",
       "</style>\n",
       "<table border=\"1\" class=\"dataframe\">\n",
       "  <thead>\n",
       "    <tr style=\"text-align: right;\">\n",
       "      <th>Churn</th>\n",
       "      <th>0</th>\n",
       "      <th>1</th>\n",
       "      <th>% churn</th>\n",
       "    </tr>\n",
       "    <tr>\n",
       "      <th>OnlineSecurity</th>\n",
       "      <th></th>\n",
       "      <th></th>\n",
       "      <th></th>\n",
       "    </tr>\n",
       "  </thead>\n",
       "  <tbody>\n",
       "    <tr>\n",
       "      <th>0</th>\n",
       "      <td>2037</td>\n",
       "      <td>1461</td>\n",
       "      <td>41.77</td>\n",
       "    </tr>\n",
       "    <tr>\n",
       "      <th>1</th>\n",
       "      <td>1724</td>\n",
       "      <td>295</td>\n",
       "      <td>14.61</td>\n",
       "    </tr>\n",
       "  </tbody>\n",
       "</table>\n",
       "</div>"
      ],
      "text/plain": [
       "Churn              0     1  % churn\n",
       "OnlineSecurity                     \n",
       "0               2037  1461    41.77\n",
       "1               1724   295    14.61"
      ]
     },
     "execution_count": 54,
     "metadata": {},
     "output_type": "execute_result"
    }
   ],
   "source": [
    "sec = pd.pivot_table(df[df['InternetService'].isin(['DSL','Fiber optic'])][['OnlineSecurity','Churn']], index='OnlineSecurity', columns='Churn', aggfunc='size')\n",
    "sec['% churn'] = round(sec[1]/(sec[0]+sec[1])*100,2)\n",
    "sec"
   ]
  },
  {
   "cell_type": "code",
   "execution_count": 55,
   "metadata": {},
   "outputs": [
    {
     "data": {
      "text/html": [
       "<div>\n",
       "<style scoped>\n",
       "    .dataframe tbody tr th:only-of-type {\n",
       "        vertical-align: middle;\n",
       "    }\n",
       "\n",
       "    .dataframe tbody tr th {\n",
       "        vertical-align: top;\n",
       "    }\n",
       "\n",
       "    .dataframe thead th {\n",
       "        text-align: right;\n",
       "    }\n",
       "</style>\n",
       "<table border=\"1\" class=\"dataframe\">\n",
       "  <thead>\n",
       "    <tr style=\"text-align: right;\">\n",
       "      <th>Churn</th>\n",
       "      <th>0</th>\n",
       "      <th>1</th>\n",
       "      <th>% churn</th>\n",
       "    </tr>\n",
       "    <tr>\n",
       "      <th>TechSupport</th>\n",
       "      <th></th>\n",
       "      <th></th>\n",
       "      <th></th>\n",
       "    </tr>\n",
       "  </thead>\n",
       "  <tbody>\n",
       "    <tr>\n",
       "      <th>0</th>\n",
       "      <td>2027</td>\n",
       "      <td>1446</td>\n",
       "      <td>41.64</td>\n",
       "    </tr>\n",
       "    <tr>\n",
       "      <th>1</th>\n",
       "      <td>1734</td>\n",
       "      <td>310</td>\n",
       "      <td>15.17</td>\n",
       "    </tr>\n",
       "  </tbody>\n",
       "</table>\n",
       "</div>"
      ],
      "text/plain": [
       "Churn           0     1  % churn\n",
       "TechSupport                     \n",
       "0            2027  1446    41.64\n",
       "1            1734   310    15.17"
      ]
     },
     "execution_count": 55,
     "metadata": {},
     "output_type": "execute_result"
    }
   ],
   "source": [
    "tech = pd.pivot_table(df[df['InternetService'].isin(['DSL','Fiber optic'])][['TechSupport','Churn']], index='TechSupport', columns='Churn', aggfunc='size')\n",
    "tech['% churn'] = round(tech[1]/(tech[0]+tech[1])*100,2)\n",
    "tech"
   ]
  },
  {
   "cell_type": "code",
   "execution_count": 56,
   "metadata": {},
   "outputs": [
    {
     "name": "stdout",
     "output_type": "stream",
     "text": [
      "Insight 3: Customers with internet service (78.0% of all customers) tend to churn more if they do not have the tech support (41.64% churn rate) and/or the online security (41.77% churn rate).\n"
     ]
    }
   ],
   "source": [
    "print(f\"Insight 3: Customers with internet service ({round(dfGraph[dfGraph.variable =='internet_Fiber optic']['%_Users'].values[0]*100+dfGraph[dfGraph.variable =='internet_DSL']['%_Users'].values[0]*100,2)}% of all customers) tend to churn more if they do not have the tech support ({tech.loc[0,'% churn']}% churn rate) and/or the online security ({sec.loc[0,'% churn']}% churn rate).\")"
   ]
  },
  {
   "cell_type": "markdown",
   "metadata": {},
   "source": [
    "> **Insights 4 & 5** | Analysing customer groups & churn"
   ]
  },
  {
   "cell_type": "code",
   "execution_count": 57,
   "metadata": {},
   "outputs": [
    {
     "data": {
      "application/vnd.plotly.v1+json": {
       "config": {
        "plotlyServerURL": "https://plot.ly"
       },
       "data": [
        {
         "hovertemplate": "<b>%{hovertext}</b><br><br>category=customer<br>MonthlyCharges=%{x}<br>%_Churn=%{y}<br>%_Users=%{marker.size}<extra></extra>",
         "hovertext": [
          "Dependents",
          "Partner",
          "SeniorCitizen",
          "gender",
          "payment_Bank transfer (automatic)"
         ],
         "legendgroup": "customer",
         "marker": {
          "color": "#636efa",
          "size": [
           0.3,
           0.48,
           0.16,
           0.5,
           0.22
          ],
          "sizemode": "area",
          "sizeref": 0.0005625000000000001,
          "symbol": "circle"
         },
         "mode": "markers",
         "name": "customer",
         "orientation": "v",
         "showlegend": true,
         "type": "scatter",
         "x": [
          59.52,
          67.78,
          79.82,
          65.2,
          67.19
         ],
         "xaxis": "x",
         "y": [
          0.15,
          0.2,
          0.42,
          0.27,
          0.17
         ],
         "yaxis": "y"
        },
        {
         "hovertemplate": "<b>%{hovertext}</b><br><br>category=product_internet<br>MonthlyCharges=%{x}<br>%_Churn=%{y}<br>%_Users=%{marker.size}<extra></extra>",
         "hovertext": [
          "DeviceProtection",
          "OnlineBackup",
          "OnlineSecurity",
          "StreamingMovies",
          "StreamingTV",
          "TechSupport",
          "internet_DSL",
          "internet_Fiber optic"
         ],
         "legendgroup": "product_internet",
         "marker": {
          "color": "#EF553B",
          "size": [
           0.34,
           0.34,
           0.29,
           0.39,
           0.38,
           0.29,
           0.34,
           0.44
          ],
          "sizemode": "area",
          "sizeref": 0.0005625000000000001,
          "symbol": "circle"
         },
         "mode": "markers",
         "name": "product_internet",
         "orientation": "v",
         "showlegend": true,
         "type": "scatter",
         "x": [
          84.82,
          83.08,
          78.84,
          88.48,
          88.74,
          80.68,
          58.1,
          91.5
         ],
         "xaxis": "x",
         "y": [
          0.23,
          0.22,
          0.15,
          0.3,
          0.3,
          0.15,
          0.19,
          0.42
         ],
         "yaxis": "y"
        },
        {
         "hovertemplate": "<b>%{hovertext}</b><br><br>category=product_phone<br>MonthlyCharges=%{x}<br>%_Churn=%{y}<br>%_Users=%{marker.size}<extra></extra>",
         "hovertext": [
          "MultipleLines",
          "PhoneService",
          "internet_No"
         ],
         "legendgroup": "product_phone",
         "marker": {
          "color": "#00cc96",
          "size": [
           0.42,
           0.9,
           0.22
          ],
          "sizemode": "area",
          "sizeref": 0.0005625000000000001,
          "symbol": "circle"
         },
         "mode": "markers",
         "name": "product_phone",
         "orientation": "v",
         "showlegend": true,
         "type": "scatter",
         "x": [
          82.04,
          67.2,
          21.08
         ],
         "xaxis": "x",
         "y": [
          0.29,
          0.27,
          0.07
         ],
         "yaxis": "y"
        },
        {
         "hovertemplate": "<b>%{hovertext}</b><br><br>category=setup<br>MonthlyCharges=%{x}<br>%_Churn=%{y}<br>%_Users=%{marker.size}<extra></extra>",
         "hovertext": [
          "PaperlessBilling",
          "contract_Month-to-month",
          "contract_One year",
          "contract_Two year",
          "payment_Credit card (automatic)",
          "payment_Electronic check",
          "payment_Mailed check"
         ],
         "legendgroup": "setup",
         "marker": {
          "color": "#ab63fa",
          "size": [
           0.59,
           0.55,
           0.21,
           0.24,
           0.22,
           0.34,
           0.23
          ],
          "sizemode": "area",
          "sizeref": 0.0005625000000000001,
          "symbol": "circle"
         },
         "mode": "markers",
         "name": "setup",
         "orientation": "v",
         "showlegend": true,
         "type": "scatter",
         "x": [
          73.55,
          66.4,
          65.05,
          60.77,
          66.51,
          76.26,
          43.92
         ],
         "xaxis": "x",
         "y": [
          0.34,
          0.43,
          0.11,
          0.03,
          0.15,
          0.45,
          0.19
         ],
         "yaxis": "y"
        }
       ],
       "layout": {
        "autosize": true,
        "legend": {
         "itemsizing": "constant",
         "title": {
          "text": "category"
         },
         "tracegroupgap": 0
        },
        "template": {
         "data": {
          "bar": [
           {
            "error_x": {
             "color": "#2a3f5f"
            },
            "error_y": {
             "color": "#2a3f5f"
            },
            "marker": {
             "line": {
              "color": "#E5ECF6",
              "width": 0.5
             },
             "pattern": {
              "fillmode": "overlay",
              "size": 10,
              "solidity": 0.2
             }
            },
            "type": "bar"
           }
          ],
          "barpolar": [
           {
            "marker": {
             "line": {
              "color": "#E5ECF6",
              "width": 0.5
             },
             "pattern": {
              "fillmode": "overlay",
              "size": 10,
              "solidity": 0.2
             }
            },
            "type": "barpolar"
           }
          ],
          "carpet": [
           {
            "aaxis": {
             "endlinecolor": "#2a3f5f",
             "gridcolor": "white",
             "linecolor": "white",
             "minorgridcolor": "white",
             "startlinecolor": "#2a3f5f"
            },
            "baxis": {
             "endlinecolor": "#2a3f5f",
             "gridcolor": "white",
             "linecolor": "white",
             "minorgridcolor": "white",
             "startlinecolor": "#2a3f5f"
            },
            "type": "carpet"
           }
          ],
          "choropleth": [
           {
            "colorbar": {
             "outlinewidth": 0,
             "ticks": ""
            },
            "type": "choropleth"
           }
          ],
          "contour": [
           {
            "colorbar": {
             "outlinewidth": 0,
             "ticks": ""
            },
            "colorscale": [
             [
              0,
              "#0d0887"
             ],
             [
              0.1111111111111111,
              "#46039f"
             ],
             [
              0.2222222222222222,
              "#7201a8"
             ],
             [
              0.3333333333333333,
              "#9c179e"
             ],
             [
              0.4444444444444444,
              "#bd3786"
             ],
             [
              0.5555555555555556,
              "#d8576b"
             ],
             [
              0.6666666666666666,
              "#ed7953"
             ],
             [
              0.7777777777777778,
              "#fb9f3a"
             ],
             [
              0.8888888888888888,
              "#fdca26"
             ],
             [
              1,
              "#f0f921"
             ]
            ],
            "type": "contour"
           }
          ],
          "contourcarpet": [
           {
            "colorbar": {
             "outlinewidth": 0,
             "ticks": ""
            },
            "type": "contourcarpet"
           }
          ],
          "heatmap": [
           {
            "colorbar": {
             "outlinewidth": 0,
             "ticks": ""
            },
            "colorscale": [
             [
              0,
              "#0d0887"
             ],
             [
              0.1111111111111111,
              "#46039f"
             ],
             [
              0.2222222222222222,
              "#7201a8"
             ],
             [
              0.3333333333333333,
              "#9c179e"
             ],
             [
              0.4444444444444444,
              "#bd3786"
             ],
             [
              0.5555555555555556,
              "#d8576b"
             ],
             [
              0.6666666666666666,
              "#ed7953"
             ],
             [
              0.7777777777777778,
              "#fb9f3a"
             ],
             [
              0.8888888888888888,
              "#fdca26"
             ],
             [
              1,
              "#f0f921"
             ]
            ],
            "type": "heatmap"
           }
          ],
          "heatmapgl": [
           {
            "colorbar": {
             "outlinewidth": 0,
             "ticks": ""
            },
            "colorscale": [
             [
              0,
              "#0d0887"
             ],
             [
              0.1111111111111111,
              "#46039f"
             ],
             [
              0.2222222222222222,
              "#7201a8"
             ],
             [
              0.3333333333333333,
              "#9c179e"
             ],
             [
              0.4444444444444444,
              "#bd3786"
             ],
             [
              0.5555555555555556,
              "#d8576b"
             ],
             [
              0.6666666666666666,
              "#ed7953"
             ],
             [
              0.7777777777777778,
              "#fb9f3a"
             ],
             [
              0.8888888888888888,
              "#fdca26"
             ],
             [
              1,
              "#f0f921"
             ]
            ],
            "type": "heatmapgl"
           }
          ],
          "histogram": [
           {
            "marker": {
             "pattern": {
              "fillmode": "overlay",
              "size": 10,
              "solidity": 0.2
             }
            },
            "type": "histogram"
           }
          ],
          "histogram2d": [
           {
            "colorbar": {
             "outlinewidth": 0,
             "ticks": ""
            },
            "colorscale": [
             [
              0,
              "#0d0887"
             ],
             [
              0.1111111111111111,
              "#46039f"
             ],
             [
              0.2222222222222222,
              "#7201a8"
             ],
             [
              0.3333333333333333,
              "#9c179e"
             ],
             [
              0.4444444444444444,
              "#bd3786"
             ],
             [
              0.5555555555555556,
              "#d8576b"
             ],
             [
              0.6666666666666666,
              "#ed7953"
             ],
             [
              0.7777777777777778,
              "#fb9f3a"
             ],
             [
              0.8888888888888888,
              "#fdca26"
             ],
             [
              1,
              "#f0f921"
             ]
            ],
            "type": "histogram2d"
           }
          ],
          "histogram2dcontour": [
           {
            "colorbar": {
             "outlinewidth": 0,
             "ticks": ""
            },
            "colorscale": [
             [
              0,
              "#0d0887"
             ],
             [
              0.1111111111111111,
              "#46039f"
             ],
             [
              0.2222222222222222,
              "#7201a8"
             ],
             [
              0.3333333333333333,
              "#9c179e"
             ],
             [
              0.4444444444444444,
              "#bd3786"
             ],
             [
              0.5555555555555556,
              "#d8576b"
             ],
             [
              0.6666666666666666,
              "#ed7953"
             ],
             [
              0.7777777777777778,
              "#fb9f3a"
             ],
             [
              0.8888888888888888,
              "#fdca26"
             ],
             [
              1,
              "#f0f921"
             ]
            ],
            "type": "histogram2dcontour"
           }
          ],
          "mesh3d": [
           {
            "colorbar": {
             "outlinewidth": 0,
             "ticks": ""
            },
            "type": "mesh3d"
           }
          ],
          "parcoords": [
           {
            "line": {
             "colorbar": {
              "outlinewidth": 0,
              "ticks": ""
             }
            },
            "type": "parcoords"
           }
          ],
          "pie": [
           {
            "automargin": true,
            "type": "pie"
           }
          ],
          "scatter": [
           {
            "fillpattern": {
             "fillmode": "overlay",
             "size": 10,
             "solidity": 0.2
            },
            "type": "scatter"
           }
          ],
          "scatter3d": [
           {
            "line": {
             "colorbar": {
              "outlinewidth": 0,
              "ticks": ""
             }
            },
            "marker": {
             "colorbar": {
              "outlinewidth": 0,
              "ticks": ""
             }
            },
            "type": "scatter3d"
           }
          ],
          "scattercarpet": [
           {
            "marker": {
             "colorbar": {
              "outlinewidth": 0,
              "ticks": ""
             }
            },
            "type": "scattercarpet"
           }
          ],
          "scattergeo": [
           {
            "marker": {
             "colorbar": {
              "outlinewidth": 0,
              "ticks": ""
             }
            },
            "type": "scattergeo"
           }
          ],
          "scattergl": [
           {
            "marker": {
             "colorbar": {
              "outlinewidth": 0,
              "ticks": ""
             }
            },
            "type": "scattergl"
           }
          ],
          "scattermapbox": [
           {
            "marker": {
             "colorbar": {
              "outlinewidth": 0,
              "ticks": ""
             }
            },
            "type": "scattermapbox"
           }
          ],
          "scatterpolar": [
           {
            "marker": {
             "colorbar": {
              "outlinewidth": 0,
              "ticks": ""
             }
            },
            "type": "scatterpolar"
           }
          ],
          "scatterpolargl": [
           {
            "marker": {
             "colorbar": {
              "outlinewidth": 0,
              "ticks": ""
             }
            },
            "type": "scatterpolargl"
           }
          ],
          "scatterternary": [
           {
            "marker": {
             "colorbar": {
              "outlinewidth": 0,
              "ticks": ""
             }
            },
            "type": "scatterternary"
           }
          ],
          "surface": [
           {
            "colorbar": {
             "outlinewidth": 0,
             "ticks": ""
            },
            "colorscale": [
             [
              0,
              "#0d0887"
             ],
             [
              0.1111111111111111,
              "#46039f"
             ],
             [
              0.2222222222222222,
              "#7201a8"
             ],
             [
              0.3333333333333333,
              "#9c179e"
             ],
             [
              0.4444444444444444,
              "#bd3786"
             ],
             [
              0.5555555555555556,
              "#d8576b"
             ],
             [
              0.6666666666666666,
              "#ed7953"
             ],
             [
              0.7777777777777778,
              "#fb9f3a"
             ],
             [
              0.8888888888888888,
              "#fdca26"
             ],
             [
              1,
              "#f0f921"
             ]
            ],
            "type": "surface"
           }
          ],
          "table": [
           {
            "cells": {
             "fill": {
              "color": "#EBF0F8"
             },
             "line": {
              "color": "white"
             }
            },
            "header": {
             "fill": {
              "color": "#C8D4E3"
             },
             "line": {
              "color": "white"
             }
            },
            "type": "table"
           }
          ]
         },
         "layout": {
          "annotationdefaults": {
           "arrowcolor": "#2a3f5f",
           "arrowhead": 0,
           "arrowwidth": 1
          },
          "autotypenumbers": "strict",
          "coloraxis": {
           "colorbar": {
            "outlinewidth": 0,
            "ticks": ""
           }
          },
          "colorscale": {
           "diverging": [
            [
             0,
             "#8e0152"
            ],
            [
             0.1,
             "#c51b7d"
            ],
            [
             0.2,
             "#de77ae"
            ],
            [
             0.3,
             "#f1b6da"
            ],
            [
             0.4,
             "#fde0ef"
            ],
            [
             0.5,
             "#f7f7f7"
            ],
            [
             0.6,
             "#e6f5d0"
            ],
            [
             0.7,
             "#b8e186"
            ],
            [
             0.8,
             "#7fbc41"
            ],
            [
             0.9,
             "#4d9221"
            ],
            [
             1,
             "#276419"
            ]
           ],
           "sequential": [
            [
             0,
             "#0d0887"
            ],
            [
             0.1111111111111111,
             "#46039f"
            ],
            [
             0.2222222222222222,
             "#7201a8"
            ],
            [
             0.3333333333333333,
             "#9c179e"
            ],
            [
             0.4444444444444444,
             "#bd3786"
            ],
            [
             0.5555555555555556,
             "#d8576b"
            ],
            [
             0.6666666666666666,
             "#ed7953"
            ],
            [
             0.7777777777777778,
             "#fb9f3a"
            ],
            [
             0.8888888888888888,
             "#fdca26"
            ],
            [
             1,
             "#f0f921"
            ]
           ],
           "sequentialminus": [
            [
             0,
             "#0d0887"
            ],
            [
             0.1111111111111111,
             "#46039f"
            ],
            [
             0.2222222222222222,
             "#7201a8"
            ],
            [
             0.3333333333333333,
             "#9c179e"
            ],
            [
             0.4444444444444444,
             "#bd3786"
            ],
            [
             0.5555555555555556,
             "#d8576b"
            ],
            [
             0.6666666666666666,
             "#ed7953"
            ],
            [
             0.7777777777777778,
             "#fb9f3a"
            ],
            [
             0.8888888888888888,
             "#fdca26"
            ],
            [
             1,
             "#f0f921"
            ]
           ]
          },
          "colorway": [
           "#636efa",
           "#EF553B",
           "#00cc96",
           "#ab63fa",
           "#FFA15A",
           "#19d3f3",
           "#FF6692",
           "#B6E880",
           "#FF97FF",
           "#FECB52"
          ],
          "font": {
           "color": "#2a3f5f"
          },
          "geo": {
           "bgcolor": "white",
           "lakecolor": "white",
           "landcolor": "#E5ECF6",
           "showlakes": true,
           "showland": true,
           "subunitcolor": "white"
          },
          "hoverlabel": {
           "align": "left"
          },
          "hovermode": "closest",
          "mapbox": {
           "style": "light"
          },
          "paper_bgcolor": "white",
          "plot_bgcolor": "#E5ECF6",
          "polar": {
           "angularaxis": {
            "gridcolor": "white",
            "linecolor": "white",
            "ticks": ""
           },
           "bgcolor": "#E5ECF6",
           "radialaxis": {
            "gridcolor": "white",
            "linecolor": "white",
            "ticks": ""
           }
          },
          "scene": {
           "xaxis": {
            "backgroundcolor": "#E5ECF6",
            "gridcolor": "white",
            "gridwidth": 2,
            "linecolor": "white",
            "showbackground": true,
            "ticks": "",
            "zerolinecolor": "white"
           },
           "yaxis": {
            "backgroundcolor": "#E5ECF6",
            "gridcolor": "white",
            "gridwidth": 2,
            "linecolor": "white",
            "showbackground": true,
            "ticks": "",
            "zerolinecolor": "white"
           },
           "zaxis": {
            "backgroundcolor": "#E5ECF6",
            "gridcolor": "white",
            "gridwidth": 2,
            "linecolor": "white",
            "showbackground": true,
            "ticks": "",
            "zerolinecolor": "white"
           }
          },
          "shapedefaults": {
           "line": {
            "color": "#2a3f5f"
           }
          },
          "ternary": {
           "aaxis": {
            "gridcolor": "white",
            "linecolor": "white",
            "ticks": ""
           },
           "baxis": {
            "gridcolor": "white",
            "linecolor": "white",
            "ticks": ""
           },
           "bgcolor": "#E5ECF6",
           "caxis": {
            "gridcolor": "white",
            "linecolor": "white",
            "ticks": ""
           }
          },
          "title": {
           "x": 0.05
          },
          "xaxis": {
           "automargin": true,
           "gridcolor": "white",
           "linecolor": "white",
           "ticks": "",
           "title": {
            "standoff": 15
           },
           "zerolinecolor": "white",
           "zerolinewidth": 2
          },
          "yaxis": {
           "automargin": true,
           "gridcolor": "white",
           "linecolor": "white",
           "ticks": "",
           "title": {
            "standoff": 15
           },
           "zerolinecolor": "white",
           "zerolinewidth": 2
          }
         }
        },
        "title": {
         "text": "Customers in Category"
        },
        "xaxis": {
         "anchor": "y",
         "autorange": true,
         "domain": [
          0,
          1
         ],
         "range": [
          15.393737829636354,
          97.83419138303695
         ],
         "title": {
          "text": "MonthlyCharges"
         },
         "type": "linear"
        },
        "yaxis": {
         "anchor": "x",
         "autorange": true,
         "domain": [
          0,
          1
         ],
         "range": [
          -0.015812488948122504,
          0.49962497701947534
         ],
         "title": {
          "text": "%_Churn"
         },
         "type": "linear"
        }
       }
      },
      "image/png": "[encoded data removed]",
      "text/html": [
       "<div>                            <div id=\"b494dd6f-2f6e-4118-8885-a663538c35ba\" class=\"plotly-graph-div\" style=\"height:600px; width:100%;\"></div>            <script type=\"text/javascript\">                require([\"plotly\"], function(Plotly) {                    window.PLOTLYENV=window.PLOTLYENV || {};                                    if (document.getElementById(\"b494dd6f-2f6e-4118-8885-a663538c35ba\")) {                    Plotly.newPlot(                        \"b494dd6f-2f6e-4118-8885-a663538c35ba\",                        [{\"hovertemplate\":\"<b>%{hovertext}</b><br><br>category=customer<br>MonthlyCharges=%{x}<br>%_Churn=%{y}<br>%_Users=%{marker.size}<extra></extra>\",\"hovertext\":[\"Dependents\",\"Partner\",\"SeniorCitizen\",\"gender\",\"payment_Bank transfer (automatic)\"],\"legendgroup\":\"customer\",\"marker\":{\"color\":\"#636efa\",\"size\":[0.3,0.48,0.16,0.5,0.22],\"sizemode\":\"area\",\"sizeref\":0.0005625000000000001,\"symbol\":\"circle\"},\"mode\":\"markers\",\"name\":\"customer\",\"orientation\":\"v\",\"showlegend\":true,\"x\":[59.52,67.78,79.82,65.2,67.19],\"xaxis\":\"x\",\"y\":[0.15,0.2,0.42,0.27,0.17],\"yaxis\":\"y\",\"type\":\"scatter\"},{\"hovertemplate\":\"<b>%{hovertext}</b><br><br>category=product_internet<br>MonthlyCharges=%{x}<br>%_Churn=%{y}<br>%_Users=%{marker.size}<extra></extra>\",\"hovertext\":[\"DeviceProtection\",\"OnlineBackup\",\"OnlineSecurity\",\"StreamingMovies\",\"StreamingTV\",\"TechSupport\",\"internet_DSL\",\"internet_Fiber optic\"],\"legendgroup\":\"product_internet\",\"marker\":{\"color\":\"#EF553B\",\"size\":[0.34,0.34,0.29,0.39,0.38,0.29,0.34,0.44],\"sizemode\":\"area\",\"sizeref\":0.0005625000000000001,\"symbol\":\"circle\"},\"mode\":\"markers\",\"name\":\"product_internet\",\"orientation\":\"v\",\"showlegend\":true,\"x\":[84.82,83.08,78.84,88.48,88.74,80.68,58.1,91.5],\"xaxis\":\"x\",\"y\":[0.23,0.22,0.15,0.3,0.3,0.15,0.19,0.42],\"yaxis\":\"y\",\"type\":\"scatter\"},{\"hovertemplate\":\"<b>%{hovertext}</b><br><br>category=product_phone<br>MonthlyCharges=%{x}<br>%_Churn=%{y}<br>%_Users=%{marker.size}<extra></extra>\",\"hovertext\":[\"MultipleLines\",\"PhoneService\",\"internet_No\"],\"legendgroup\":\"product_phone\",\"marker\":{\"color\":\"#00cc96\",\"size\":[0.42,0.9,0.22],\"sizemode\":\"area\",\"sizeref\":0.0005625000000000001,\"symbol\":\"circle\"},\"mode\":\"markers\",\"name\":\"product_phone\",\"orientation\":\"v\",\"showlegend\":true,\"x\":[82.04,67.2,21.08],\"xaxis\":\"x\",\"y\":[0.29,0.27,0.07],\"yaxis\":\"y\",\"type\":\"scatter\"},{\"hovertemplate\":\"<b>%{hovertext}</b><br><br>category=setup<br>MonthlyCharges=%{x}<br>%_Churn=%{y}<br>%_Users=%{marker.size}<extra></extra>\",\"hovertext\":[\"PaperlessBilling\",\"contract_Month-to-month\",\"contract_One year\",\"contract_Two year\",\"payment_Credit card (automatic)\",\"payment_Electronic check\",\"payment_Mailed check\"],\"legendgroup\":\"setup\",\"marker\":{\"color\":\"#ab63fa\",\"size\":[0.59,0.55,0.21,0.24,0.22,0.34,0.23],\"sizemode\":\"area\",\"sizeref\":0.0005625000000000001,\"symbol\":\"circle\"},\"mode\":\"markers\",\"name\":\"setup\",\"orientation\":\"v\",\"showlegend\":true,\"x\":[73.55,66.4,65.05,60.77,66.51,76.26,43.92],\"xaxis\":\"x\",\"y\":[0.34,0.43,0.11,0.03,0.15,0.45,0.19],\"yaxis\":\"y\",\"type\":\"scatter\"}],                        {\"template\":{\"data\":{\"histogram2dcontour\":[{\"type\":\"histogram2dcontour\",\"colorbar\":{\"outlinewidth\":0,\"ticks\":\"\"},\"colorscale\":[[0.0,\"#0d0887\"],[0.1111111111111111,\"#46039f\"],[0.2222222222222222,\"#7201a8\"],[0.3333333333333333,\"#9c179e\"],[0.4444444444444444,\"#bd3786\"],[0.5555555555555556,\"#d8576b\"],[0.6666666666666666,\"#ed7953\"],[0.7777777777777778,\"#fb9f3a\"],[0.8888888888888888,\"#fdca26\"],[1.0,\"#f0f921\"]]}],\"choropleth\":[{\"type\":\"choropleth\",\"colorbar\":{\"outlinewidth\":0,\"ticks\":\"\"}}],\"histogram2d\":[{\"type\":\"histogram2d\",\"colorbar\":{\"outlinewidth\":0,\"ticks\":\"\"},\"colorscale\":[[0.0,\"#0d0887\"],[0.1111111111111111,\"#46039f\"],[0.2222222222222222,\"#7201a8\"],[0.3333333333333333,\"#9c179e\"],[0.4444444444444444,\"#bd3786\"],[0.5555555555555556,\"#d8576b\"],[0.6666666666666666,\"#ed7953\"],[0.7777777777777778,\"#fb9f3a\"],[0.8888888888888888,\"#fdca26\"],[1.0,\"#f0f921\"]]}],\"heatmap\":[{\"type\":\"heatmap\",\"colorbar\":{\"outlinewidth\":0,\"ticks\":\"\"},\"colorscale\":[[0.0,\"#0d0887\"],[0.1111111111111111,\"#46039f\"],[0.2222222222222222,\"#7201a8\"],[0.3333333333333333,\"#9c179e\"],[0.4444444444444444,\"#bd3786\"],[0.5555555555555556,\"#d8576b\"],[0.6666666666666666,\"#ed7953\"],[0.7777777777777778,\"#fb9f3a\"],[0.8888888888888888,\"#fdca26\"],[1.0,\"#f0f921\"]]}],\"heatmapgl\":[{\"type\":\"heatmapgl\",\"colorbar\":{\"outlinewidth\":0,\"ticks\":\"\"},\"colorscale\":[[0.0,\"#0d0887\"],[0.1111111111111111,\"#46039f\"],[0.2222222222222222,\"#7201a8\"],[0.3333333333333333,\"#9c179e\"],[0.4444444444444444,\"#bd3786\"],[0.5555555555555556,\"#d8576b\"],[0.6666666666666666,\"#ed7953\"],[0.7777777777777778,\"#fb9f3a\"],[0.8888888888888888,\"#fdca26\"],[1.0,\"#f0f921\"]]}],\"contourcarpet\":[{\"type\":\"contourcarpet\",\"colorbar\":{\"outlinewidth\":0,\"ticks\":\"\"}}],\"contour\":[{\"type\":\"contour\",\"colorbar\":{\"outlinewidth\":0,\"ticks\":\"\"},\"colorscale\":[[0.0,\"#0d0887\"],[0.1111111111111111,\"#46039f\"],[0.2222222222222222,\"#7201a8\"],[0.3333333333333333,\"#9c179e\"],[0.4444444444444444,\"#bd3786\"],[0.5555555555555556,\"#d8576b\"],[0.6666666666666666,\"#ed7953\"],[0.7777777777777778,\"#fb9f3a\"],[0.8888888888888888,\"#fdca26\"],[1.0,\"#f0f921\"]]}],\"surface\":[{\"type\":\"surface\",\"colorbar\":{\"outlinewidth\":0,\"ticks\":\"\"},\"colorscale\":[[0.0,\"#0d0887\"],[0.1111111111111111,\"#46039f\"],[0.2222222222222222,\"#7201a8\"],[0.3333333333333333,\"#9c179e\"],[0.4444444444444444,\"#bd3786\"],[0.5555555555555556,\"#d8576b\"],[0.6666666666666666,\"#ed7953\"],[0.7777777777777778,\"#fb9f3a\"],[0.8888888888888888,\"#fdca26\"],[1.0,\"#f0f921\"]]}],\"mesh3d\":[{\"type\":\"mesh3d\",\"colorbar\":{\"outlinewidth\":0,\"ticks\":\"\"}}],\"scatter\":[{\"fillpattern\":{\"fillmode\":\"overlay\",\"size\":10,\"solidity\":0.2},\"type\":\"scatter\"}],\"parcoords\":[{\"type\":\"parcoords\",\"line\":{\"colorbar\":{\"outlinewidth\":0,\"ticks\":\"\"}}}],\"scatterpolargl\":[{\"type\":\"scatterpolargl\",\"marker\":{\"colorbar\":{\"outlinewidth\":0,\"ticks\":\"\"}}}],\"bar\":[{\"error_x\":{\"color\":\"#2a3f5f\"},\"error_y\":{\"color\":\"#2a3f5f\"},\"marker\":{\"line\":{\"color\":\"#E5ECF6\",\"width\":0.5},\"pattern\":{\"fillmode\":\"overlay\",\"size\":10,\"solidity\":0.2}},\"type\":\"bar\"}],\"scattergeo\":[{\"type\":\"scattergeo\",\"marker\":{\"colorbar\":{\"outlinewidth\":0,\"ticks\":\"\"}}}],\"scatterpolar\":[{\"type\":\"scatterpolar\",\"marker\":{\"colorbar\":{\"outlinewidth\":0,\"ticks\":\"\"}}}],\"histogram\":[{\"marker\":{\"pattern\":{\"fillmode\":\"overlay\",\"size\":10,\"solidity\":0.2}},\"type\":\"histogram\"}],\"scattergl\":[{\"type\":\"scattergl\",\"marker\":{\"colorbar\":{\"outlinewidth\":0,\"ticks\":\"\"}}}],\"scatter3d\":[{\"type\":\"scatter3d\",\"line\":{\"colorbar\":{\"outlinewidth\":0,\"ticks\":\"\"}},\"marker\":{\"colorbar\":{\"outlinewidth\":0,\"ticks\":\"\"}}}],\"scattermapbox\":[{\"type\":\"scattermapbox\",\"marker\":{\"colorbar\":{\"outlinewidth\":0,\"ticks\":\"\"}}}],\"scatterternary\":[{\"type\":\"scatterternary\",\"marker\":{\"colorbar\":{\"outlinewidth\":0,\"ticks\":\"\"}}}],\"scattercarpet\":[{\"type\":\"scattercarpet\",\"marker\":{\"colorbar\":{\"outlinewidth\":0,\"ticks\":\"\"}}}],\"carpet\":[{\"aaxis\":{\"endlinecolor\":\"#2a3f5f\",\"gridcolor\":\"white\",\"linecolor\":\"white\",\"minorgridcolor\":\"white\",\"startlinecolor\":\"#2a3f5f\"},\"baxis\":{\"endlinecolor\":\"#2a3f5f\",\"gridcolor\":\"white\",\"linecolor\":\"white\",\"minorgridcolor\":\"white\",\"startlinecolor\":\"#2a3f5f\"},\"type\":\"carpet\"}],\"table\":[{\"cells\":{\"fill\":{\"color\":\"#EBF0F8\"},\"line\":{\"color\":\"white\"}},\"header\":{\"fill\":{\"color\":\"#C8D4E3\"},\"line\":{\"color\":\"white\"}},\"type\":\"table\"}],\"barpolar\":[{\"marker\":{\"line\":{\"color\":\"#E5ECF6\",\"width\":0.5},\"pattern\":{\"fillmode\":\"overlay\",\"size\":10,\"solidity\":0.2}},\"type\":\"barpolar\"}],\"pie\":[{\"automargin\":true,\"type\":\"pie\"}]},\"layout\":{\"autotypenumbers\":\"strict\",\"colorway\":[\"#636efa\",\"#EF553B\",\"#00cc96\",\"#ab63fa\",\"#FFA15A\",\"#19d3f3\",\"#FF6692\",\"#B6E880\",\"#FF97FF\",\"#FECB52\"],\"font\":{\"color\":\"#2a3f5f\"},\"hovermode\":\"closest\",\"hoverlabel\":{\"align\":\"left\"},\"paper_bgcolor\":\"white\",\"plot_bgcolor\":\"#E5ECF6\",\"polar\":{\"bgcolor\":\"#E5ECF6\",\"angularaxis\":{\"gridcolor\":\"white\",\"linecolor\":\"white\",\"ticks\":\"\"},\"radialaxis\":{\"gridcolor\":\"white\",\"linecolor\":\"white\",\"ticks\":\"\"}},\"ternary\":{\"bgcolor\":\"#E5ECF6\",\"aaxis\":{\"gridcolor\":\"white\",\"linecolor\":\"white\",\"ticks\":\"\"},\"baxis\":{\"gridcolor\":\"white\",\"linecolor\":\"white\",\"ticks\":\"\"},\"caxis\":{\"gridcolor\":\"white\",\"linecolor\":\"white\",\"ticks\":\"\"}},\"coloraxis\":{\"colorbar\":{\"outlinewidth\":0,\"ticks\":\"\"}},\"colorscale\":{\"sequential\":[[0.0,\"#0d0887\"],[0.1111111111111111,\"#46039f\"],[0.2222222222222222,\"#7201a8\"],[0.3333333333333333,\"#9c179e\"],[0.4444444444444444,\"#bd3786\"],[0.5555555555555556,\"#d8576b\"],[0.6666666666666666,\"#ed7953\"],[0.7777777777777778,\"#fb9f3a\"],[0.8888888888888888,\"#fdca26\"],[1.0,\"#f0f921\"]],\"sequentialminus\":[[0.0,\"#0d0887\"],[0.1111111111111111,\"#46039f\"],[0.2222222222222222,\"#7201a8\"],[0.3333333333333333,\"#9c179e\"],[0.4444444444444444,\"#bd3786\"],[0.5555555555555556,\"#d8576b\"],[0.6666666666666666,\"#ed7953\"],[0.7777777777777778,\"#fb9f3a\"],[0.8888888888888888,\"#fdca26\"],[1.0,\"#f0f921\"]],\"diverging\":[[0,\"#8e0152\"],[0.1,\"#c51b7d\"],[0.2,\"#de77ae\"],[0.3,\"#f1b6da\"],[0.4,\"#fde0ef\"],[0.5,\"#f7f7f7\"],[0.6,\"#e6f5d0\"],[0.7,\"#b8e186\"],[0.8,\"#7fbc41\"],[0.9,\"#4d9221\"],[1,\"#276419\"]]},\"xaxis\":{\"gridcolor\":\"white\",\"linecolor\":\"white\",\"ticks\":\"\",\"title\":{\"standoff\":15},\"zerolinecolor\":\"white\",\"automargin\":true,\"zerolinewidth\":2},\"yaxis\":{\"gridcolor\":\"white\",\"linecolor\":\"white\",\"ticks\":\"\",\"title\":{\"standoff\":15},\"zerolinecolor\":\"white\",\"automargin\":true,\"zerolinewidth\":2},\"scene\":{\"xaxis\":{\"backgroundcolor\":\"#E5ECF6\",\"gridcolor\":\"white\",\"linecolor\":\"white\",\"showbackground\":true,\"ticks\":\"\",\"zerolinecolor\":\"white\",\"gridwidth\":2},\"yaxis\":{\"backgroundcolor\":\"#E5ECF6\",\"gridcolor\":\"white\",\"linecolor\":\"white\",\"showbackground\":true,\"ticks\":\"\",\"zerolinecolor\":\"white\",\"gridwidth\":2},\"zaxis\":{\"backgroundcolor\":\"#E5ECF6\",\"gridcolor\":\"white\",\"linecolor\":\"white\",\"showbackground\":true,\"ticks\":\"\",\"zerolinecolor\":\"white\",\"gridwidth\":2}},\"shapedefaults\":{\"line\":{\"color\":\"#2a3f5f\"}},\"annotationdefaults\":{\"arrowcolor\":\"#2a3f5f\",\"arrowhead\":0,\"arrowwidth\":1},\"geo\":{\"bgcolor\":\"white\",\"landcolor\":\"#E5ECF6\",\"subunitcolor\":\"white\",\"showland\":true,\"showlakes\":true,\"lakecolor\":\"white\"},\"title\":{\"x\":0.05},\"mapbox\":{\"style\":\"light\"}}},\"xaxis\":{\"anchor\":\"y\",\"domain\":[0.0,1.0],\"title\":{\"text\":\"MonthlyCharges\"}},\"yaxis\":{\"anchor\":\"x\",\"domain\":[0.0,1.0],\"title\":{\"text\":\"%_Churn\"}},\"legend\":{\"title\":{\"text\":\"category\"},\"tracegroupgap\":0,\"itemsizing\":\"constant\"},\"title\":{\"text\":\"Customers in Category\"},\"height\":600},                        {\"responsive\": true}                    ).then(function(){\n",
       "                            \n",
       "var gd = document.getElementById('b494dd6f-2f6e-4118-8885-a663538c35ba');\n",
       "var x = new MutationObserver(function (mutations, observer) {{\n",
       "        var display = window.getComputedStyle(gd).display;\n",
       "        if (!display || display === 'none') {{\n",
       "            console.log([gd, 'removed!']);\n",
       "            Plotly.purge(gd);\n",
       "            observer.disconnect();\n",
       "        }}\n",
       "}});\n",
       "\n",
       "// Listen for the removal of the full notebook cells\n",
       "var notebookContainer = gd.closest('#notebook-container');\n",
       "if (notebookContainer) {{\n",
       "    x.observe(notebookContainer, {childList: true});\n",
       "}}\n",
       "\n",
       "// Listen for the clearing of the current output cell\n",
       "var outputEl = gd.closest('.output');\n",
       "if (outputEl) {{\n",
       "    x.observe(outputEl, {childList: true});\n",
       "}}\n",
       "\n",
       "                        })                };                });            </script>        </div>"
      ]
     },
     "metadata": {},
     "output_type": "display_data"
    }
   ],
   "source": [
    "import plotly.express as px\n",
    "\n",
    "fig = px.scatter(\n",
    "    dfGraph, \n",
    "    x = \"MonthlyCharges\", \n",
    "    y = \"%_Churn\",\n",
    "\tsize = \"%_Users\", \n",
    "    color = \"category\",\n",
    "    hover_name = \"variable\",\n",
    "    title = \"Customers in Category\", \n",
    "    size_max=40,\n",
    "    height = 600)\n",
    "    \n",
    "fig.show()"
   ]
  },
  {
   "cell_type": "code",
   "execution_count": 58,
   "metadata": {},
   "outputs": [
    {
     "name": "stdout",
     "output_type": "stream",
     "text": [
      "Insight 4: Differences between churning and non-churning customers come from the time of contract customers have and the type of internet product they have. Demographics variables about the customer and type of phone product they have do not seem to play a role.\n"
     ]
    }
   ],
   "source": [
    "print(f\"Insight 4: Differences between churning and non-churning customers come from the time of contract customers have and the type of internet product they have. Demographics variables about the customer and type of phone product they have do not seem to play a role.\")"
   ]
  },
  {
   "cell_type": "code",
   "execution_count": 59,
   "metadata": {},
   "outputs": [
    {
     "name": "stdout",
     "output_type": "stream",
     "text": [
      "Insight 5: A very small proportion of customers have a one year (21.0%) or two year contract (24.0%) while these feature seem to significantly bring down the churn rate while a high proportion of customers have a month to month contract (55.0%).\n"
     ]
    }
   ],
   "source": [
    "print(f\"Insight 5: A very small proportion of customers have a one year ({round(dfGraph[dfGraph.variable =='contract_One year']['%_Users'].values[0]*100,2)}%) or two year contract ({round(dfGraph[dfGraph.variable =='contract_Two year']['%_Users'].values[0]*100,2)}%) while these feature seem to significantly bring down the churn rate while a high proportion of customers have a month to month contract ({round(dfGraph[dfGraph.variable =='contract_Month-to-month']['%_Users'].values[0]*100,2)}%).\")"
   ]
  }
 ],
 "metadata": {
  "kernelspec": {
   "display_name": "Python 3 (ipykernel)",
   "language": "python",
   "name": "python3"
  },
  "language_info": {
   "codemirror_mode": {
    "name": "ipython",
    "version": 3
   },
   "file_extension": ".py",
   "mimetype": "text/x-python",
   "name": "python",
   "nbconvert_exporter": "python",
   "pygments_lexer": "ipython3",
   "version": "3.9.7"
  },
  "vscode": {
   "interpreter": {
    "hash": "da33234912419eb163b92824827c020cc05230cc71fae4808fc22ed9a1e67121"
   }
  }
 },
 "nbformat": 4,
 "nbformat_minor": 4
}
